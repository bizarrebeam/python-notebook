{
 "cells": [
  {
   "cell_type": "code",
   "execution_count": 1,
   "id": "4a9a117c",
   "metadata": {},
   "outputs": [],
   "source": [
    "def add(n1, n2):\n",
    "    print(n1 + n2)"
   ]
  },
  {
   "cell_type": "code",
   "execution_count": 2,
   "id": "a16cb102",
   "metadata": {},
   "outputs": [
    {
     "name": "stdout",
     "output_type": "stream",
     "text": [
      "30\n"
     ]
    }
   ],
   "source": [
    "add(10, 20)"
   ]
  },
  {
   "cell_type": "code",
   "execution_count": 1,
   "id": "bc4161de",
   "metadata": {},
   "outputs": [],
   "source": [
    "number1 = 10"
   ]
  },
  {
   "cell_type": "code",
   "execution_count": 1,
   "id": "761a7ca0",
   "metadata": {},
   "outputs": [
    {
     "name": "stdout",
     "output_type": "stream",
     "text": [
      "please provide a number: 20\n"
     ]
    }
   ],
   "source": [
    "number2 = input(\"please provide a number: \")"
   ]
  },
  {
   "cell_type": "code",
   "execution_count": 3,
   "id": "524c6b5a",
   "metadata": {},
   "outputs": [
    {
     "ename": "NameError",
     "evalue": "name 'add' is not defined",
     "output_type": "error",
     "traceback": [
      "\u001b[1;31m---------------------------------------------------------------------------\u001b[0m",
      "\u001b[1;31mNameError\u001b[0m                                 Traceback (most recent call last)",
      "Cell \u001b[1;32mIn[3], line 1\u001b[0m\n\u001b[1;32m----> 1\u001b[0m \u001b[43madd\u001b[49m(number1, number2)\n\u001b[0;32m      2\u001b[0m \u001b[38;5;28mprint\u001b[39m(\u001b[38;5;124m\"\u001b[39m\u001b[38;5;124mSomething happened!\u001b[39m\u001b[38;5;124m\"\u001b[39m)\n",
      "\u001b[1;31mNameError\u001b[0m: name 'add' is not defined"
     ]
    }
   ],
   "source": [
    "add(number1, number2)\n",
    "print(\"Something happened!\")"
   ]
  },
  {
   "cell_type": "code",
   "execution_count": 4,
   "id": "bd31139a",
   "metadata": {},
   "outputs": [],
   "source": [
    "try:\n",
    "    # attempt that may lead to an error\n",
    "    result = 10 + 10\n",
    "\n",
    "except:\n",
    "    print(\"You dumb bitch add it correctly!\")"
   ]
  },
  {
   "cell_type": "code",
   "execution_count": 5,
   "id": "4d04cbce",
   "metadata": {},
   "outputs": [
    {
     "data": {
      "text/plain": [
       "20"
      ]
     },
     "execution_count": 5,
     "metadata": {},
     "output_type": "execute_result"
    }
   ],
   "source": [
    "result"
   ]
  },
  {
   "cell_type": "code",
   "execution_count": 6,
   "id": "e9ed792e",
   "metadata": {},
   "outputs": [],
   "source": [
    "# now it's really there's an error"
   ]
  },
  {
   "cell_type": "code",
   "execution_count": 8,
   "id": "a3d70395",
   "metadata": {},
   "outputs": [
    {
     "name": "stdout",
     "output_type": "stream",
     "text": [
      "You dumb bitch add it correctly!\n"
     ]
    }
   ],
   "source": [
    "try:\n",
    "    # attempt that may lead to an error\n",
    "    result = 10 + \"10\"\n",
    "\n",
    "except:\n",
    "    print(\"You dumb bitch add it correctly!\")\n"
   ]
  },
  {
   "cell_type": "code",
   "execution_count": 9,
   "id": "4fdd7dbf",
   "metadata": {},
   "outputs": [
    {
     "name": "stdout",
     "output_type": "stream",
     "text": [
      "Add went well!\n",
      "20\n"
     ]
    }
   ],
   "source": [
    "try:\n",
    "    # attempt that may lead to an error\n",
    "    result = 10 + 10\n",
    "\n",
    "except:\n",
    "    print(\"You dumb bitch add it correctly!\")\n",
    "\n",
    "else:\n",
    "    print(\"Add went well!\")\n",
    "    print(result)\n",
    "    \n",
    "# if there's error, output = you dumb bitch (not error!!)\n",
    "# if it went well, output = execute the else\n",
    "\n"
   ]
  },
  {
   "cell_type": "code",
   "execution_count": 15,
   "id": "422debd5",
   "metadata": {},
   "outputs": [],
   "source": [
    "def ask_for_int():\n",
    "    try:\n",
    "        result = int(input(\"Please provide int: \"))\n",
    "    except:\n",
    "        print(\"dumbitch i said int!\")\n",
    "    finally:\n",
    "        print(\"ngoke selesai\")"
   ]
  },
  {
   "cell_type": "code",
   "execution_count": 16,
   "id": "7d2a9882",
   "metadata": {},
   "outputs": [
    {
     "name": "stdout",
     "output_type": "stream",
     "text": [
      "Please provide int: ngoke\n",
      "dumbitch i said int!\n",
      "ngoke\n"
     ]
    }
   ],
   "source": [
    "ask_for_int()"
   ]
  },
  {
   "cell_type": "code",
   "execution_count": 4,
   "id": "84eaf2a5",
   "metadata": {},
   "outputs": [],
   "source": [
    "def ask_for_int():\n",
    "    while True:\n",
    "        try:\n",
    "            result = int(input(\"Please provide int: \"))\n",
    "        except:\n",
    "            print(\"dumbitch i said int!\")\n",
    "            continue\n",
    "        else:\n",
    "            print(\"Thankyuh\")\n",
    "            break"
   ]
  },
  {
   "cell_type": "code",
   "execution_count": 5,
   "id": "7e148426",
   "metadata": {},
   "outputs": [
    {
     "name": "stdout",
     "output_type": "stream",
     "text": [
      "Please provide int: i\n",
      "dumbitch i said int!\n",
      "Please provide int: i\n",
      "dumbitch i said int!\n",
      "Please provide int: 90\n",
      "Thankyuh\n"
     ]
    }
   ],
   "source": [
    "ask_for_int()"
   ]
  },
  {
   "cell_type": "code",
   "execution_count": null,
   "id": "8e2f9a79",
   "metadata": {},
   "outputs": [],
   "source": []
  }
 ],
 "metadata": {
  "kernelspec": {
   "display_name": "Python 3 (ipykernel)",
   "language": "python",
   "name": "python3"
  },
  "language_info": {
   "codemirror_mode": {
    "name": "ipython",
    "version": 3
   },
   "file_extension": ".py",
   "mimetype": "text/x-python",
   "name": "python",
   "nbconvert_exporter": "python",
   "pygments_lexer": "ipython3",
   "version": "3.10.9"
  }
 },
 "nbformat": 4,
 "nbformat_minor": 5
}
