{
 "cells": [
  {
   "cell_type": "code",
   "execution_count": 1,
   "id": "f5d84410",
   "metadata": {},
   "outputs": [],
   "source": [
    "n = 6"
   ]
  },
  {
   "cell_type": "code",
   "execution_count": 2,
   "id": "1d87dd88",
   "metadata": {},
   "outputs": [
    {
     "name": "stdout",
     "output_type": "stream",
     "text": [
      "6\n",
      "5\n",
      "4\n",
      "3\n",
      "2\n"
     ]
    }
   ],
   "source": [
    "while n > 0:\n",
    "    if n == 1:\n",
    "        break\n",
    "    else:\n",
    "        print(n)\n",
    "        n -= 1\n",
    "        continue # gk mau jln kalo ga pake continue"
   ]
  },
  {
   "cell_type": "code",
   "execution_count": 7,
   "id": "102db9af",
   "metadata": {},
   "outputs": [
    {
     "name": "stdout",
     "output_type": "stream",
     "text": [
      "-1\n",
      "0\n",
      "0\n",
      "1\n",
      "1\n",
      "4\n"
     ]
    }
   ],
   "source": [
    "n = -1\n",
    "while n<3:\n",
    "    print(n)\n",
    "    n+=1\n",
    "    \n",
    "    if n>1:\n",
    "        print(n**2)\n",
    "        break\n",
    "    \n",
    "    else:\n",
    "        print(n)\n",
    "    \n",
    "    "
   ]
  },
  {
   "cell_type": "code",
   "execution_count": 8,
   "id": "0d8c4928",
   "metadata": {},
   "outputs": [
    {
     "name": "stdout",
     "output_type": "stream",
     "text": [
      "-1\n",
      "0\n",
      "1\n",
      "4\n"
     ]
    }
   ],
   "source": [
    "n = -1\n",
    "while n<3:\n",
    "    print(n)\n",
    "    n+=1\n",
    "    \n",
    "    if n>1:\n",
    "        print(n**2)\n",
    "        break\n",
    "    \n",
    "    else:\n",
    "        continue\n",
    "    \n",
    "    "
   ]
  },
  {
   "cell_type": "code",
   "execution_count": 9,
   "id": "0bad95f7",
   "metadata": {},
   "outputs": [
    {
     "name": "stdout",
     "output_type": "stream",
     "text": [
      "a\n",
      "a\n",
      "b\n",
      "c\n",
      "d\n"
     ]
    }
   ],
   "source": [
    "for n in range(10, 2, -3):\n",
    "    if n == 5:\n",
    "        break\n",
    "    elif n>5:\n",
    "        print('a')\n",
    "        continue\n",
    "    else:\n",
    "        print(\"b\")\n",
    "    print(\"c\")\n",
    "\n",
    "else:\n",
    "    print(\"d\")"
   ]
  },
  {
   "cell_type": "code",
   "execution_count": 14,
   "id": "f66643ba",
   "metadata": {},
   "outputs": [
    {
     "name": "stdout",
     "output_type": "stream",
     "text": [
      "5\n",
      "7\n",
      "9\n",
      "11\n"
     ]
    }
   ],
   "source": [
    "n = 4\n",
    "\n",
    "for num in range(n, 3*n):\n",
    "    if num %2 != 0:\n",
    "        print(num)"
   ]
  },
  {
   "cell_type": "code",
   "execution_count": 15,
   "id": "d53480e8",
   "metadata": {},
   "outputs": [
    {
     "name": "stdout",
     "output_type": "stream",
     "text": [
      "5\n",
      "7\n",
      "9\n",
      "11\n",
      "13\n"
     ]
    }
   ],
   "source": [
    "n = 5\n",
    "\n",
    "for num in range(n, 3*n):\n",
    "    if num %2 != 0:\n",
    "        print(num)"
   ]
  },
  {
   "cell_type": "code",
   "execution_count": 1,
   "id": "bc1965d2",
   "metadata": {},
   "outputs": [
    {
     "name": "stdout",
     "output_type": "stream",
     "text": [
      "7\n",
      "9\n",
      "11\n",
      "13\n",
      "15\n",
      "17\n"
     ]
    }
   ],
   "source": [
    "n = 6\n",
    "\n",
    "for num in range(n, 3*n):\n",
    "    if num %2 != 0:\n",
    "        print(num)"
   ]
  }
 ],
 "metadata": {
  "kernelspec": {
   "display_name": "Python 3 (ipykernel)",
   "language": "python",
   "name": "python3"
  },
  "language_info": {
   "codemirror_mode": {
    "name": "ipython",
    "version": 3
   },
   "file_extension": ".py",
   "mimetype": "text/x-python",
   "name": "python",
   "nbconvert_exporter": "python",
   "pygments_lexer": "ipython3",
   "version": "3.10.9"
  }
 },
 "nbformat": 4,
 "nbformat_minor": 5
}
