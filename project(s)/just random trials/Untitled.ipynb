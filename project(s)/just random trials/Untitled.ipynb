{
 "cells": [
  {
   "cell_type": "code",
   "execution_count": null,
   "id": "2a019796",
   "metadata": {},
   "outputs": [],
   "source": [
    "print(\"Selamat Datang di Dek Depe's Jasa Name Tag !\")\n",
    "print(\"-----------------------------------------------------------------\")\n",
    "\n",
    "# input dari pelanggan\n",
    "nama = input(\"Nama\\t: \".expandtabs(20))\n",
    "tanggal_lahir = input(\"Tanggal lahir\\t: \".expandtabs(20))\n",
    "jurusan = input(\"Jurusan\\t: \".expandtabs(20))\n",
    "motto = input(\"Motto Hidup\\t: \".expandtabs(20))\n",
    "panjang = float(input(\"Masukan panjang (cm)\\t: \".expandtabs(20)))\n",
    "lebar = float(input(\"Masukan lebar (cm)\\t: \".expandtabs(20)))\n",
    "\n",
    "print(\"-----------------------------------------------------------------\")\n",
    "\n",
    "# pengaturan kartu\n",
    "luas = panjang * lebar\n",
    "harga = luas * 100\n",
    "\n",
    "# output kartu\n",
    "print(f\"\"\"Halo {nama} dari {jurusan}.\n",
    "Lahir pada {tanggal_lahir} dengan motto {motto}\n",
    "Luas name tag {nama}: {luas} cm^2\n",
    "Harga name tag {nama}: Rp{harga}\"\"\")\n",
    "\n",
    "print(\"-----------------------------------------------------------------\")\n",
    "print(\"Terima kasih telah menggunakan jasa Dek Depe's Name Tag!\")\n",
    "\n",
    "# print(\"Hello\\t\".expandtabs(20) + \":\")\n",
    "# print(\"Nama Anda\\t\".expandtabs(30) + \":\")\n",
    "# print(\"Level of Stress\\t\".expandtabs(30) + \":\")"
   ]
  },
  {
   "cell_type": "code",
   "execution_count": 1,
   "id": "afba81e3",
   "metadata": {},
   "outputs": [
    {
     "data": {
      "text/plain": [
       "\"C:\\\\Users\\\\adelya\\\\adelya's programming stuff\\\\python\\\\udemy\\\\1) project\\\\just random trials\""
      ]
     },
     "execution_count": 1,
     "metadata": {},
     "output_type": "execute_result"
    }
   ],
   "source": [
    "pwd"
   ]
  },
  {
   "cell_type": "code",
   "execution_count": null,
   "id": "e72a807c",
   "metadata": {},
   "outputs": [],
   "source": []
  }
 ],
 "metadata": {
  "kernelspec": {
   "display_name": "Python 3 (ipykernel)",
   "language": "python",
   "name": "python3"
  },
  "language_info": {
   "codemirror_mode": {
    "name": "ipython",
    "version": 3
   },
   "file_extension": ".py",
   "mimetype": "text/x-python",
   "name": "python",
   "nbconvert_exporter": "python",
   "pygments_lexer": "ipython3",
   "version": "3.10.9"
  }
 },
 "nbformat": 4,
 "nbformat_minor": 5
}
