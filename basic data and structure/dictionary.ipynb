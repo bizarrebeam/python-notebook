{
 "cells": [
  {
   "cell_type": "code",
   "execution_count": 5,
   "id": "aaa781f2",
   "metadata": {},
   "outputs": [],
   "source": [
    "skincare = {\"tier\": \"retinol\", \"moderate\": \"niacinamide\", \"lie\": \"collagen\"}"
   ]
  },
  {
   "cell_type": "code",
   "execution_count": 4,
   "id": "6b52a455",
   "metadata": {},
   "outputs": [
    {
     "data": {
      "text/plain": [
       "'niacinamide'"
      ]
     },
     "execution_count": 4,
     "metadata": {},
     "output_type": "execute_result"
    }
   ],
   "source": [
    "skincare[\"moderate\"]"
   ]
  },
  {
   "cell_type": "code",
   "execution_count": 7,
   "id": "50aaecb4",
   "metadata": {},
   "outputs": [],
   "source": [
    "skincare = {\"tier\": \"retinol\", \"moderate\": \"niacinamide\", \"lie\": \"collagen\", \"price\":{\"net\": 50, \"sell\": 100}}"
   ]
  },
  {
   "cell_type": "code",
   "execution_count": 8,
   "id": "505f9802",
   "metadata": {},
   "outputs": [
    {
     "data": {
      "text/plain": [
       "100"
      ]
     },
     "execution_count": 8,
     "metadata": {},
     "output_type": "execute_result"
    }
   ],
   "source": [
    "skincare[\"price\"][\"sell\"]"
   ]
  },
  {
   "cell_type": "code",
   "execution_count": 9,
   "id": "bf8723cb",
   "metadata": {},
   "outputs": [],
   "source": [
    "# proving if list could be within dictionary"
   ]
  },
  {
   "cell_type": "code",
   "execution_count": 10,
   "id": "3c43dbfb",
   "metadata": {},
   "outputs": [],
   "source": [
    "skin_care = {\"tier\": [\"AHA\", \"BHA\", \"Retinol\", \"Vitamin C\"], \"moderate\": [\"Niacinamide\", \"H Acid\", \"Centella A\"], \"lie\": \"collagen\"}"
   ]
  },
  {
   "cell_type": "code",
   "execution_count": 11,
   "id": "974c1ebc",
   "metadata": {},
   "outputs": [
    {
     "data": {
      "text/plain": [
       "'Centella A'"
      ]
     },
     "execution_count": 11,
     "metadata": {},
     "output_type": "execute_result"
    }
   ],
   "source": [
    "skin_care[\"moderate\"][2]"
   ]
  },
  {
   "cell_type": "code",
   "execution_count": 13,
   "id": "ef86eb47",
   "metadata": {},
   "outputs": [],
   "source": [
    "my_ingredients = skin_care[\"moderate\"][2]"
   ]
  },
  {
   "cell_type": "code",
   "execution_count": 14,
   "id": "ea139bab",
   "metadata": {},
   "outputs": [
    {
     "data": {
      "text/plain": [
       "'CENTELLA A'"
      ]
     },
     "execution_count": 14,
     "metadata": {},
     "output_type": "execute_result"
    }
   ],
   "source": [
    "my_ingredients.upper()"
   ]
  },
  {
   "cell_type": "code",
   "execution_count": 15,
   "id": "87cc50f9",
   "metadata": {},
   "outputs": [
    {
     "data": {
      "text/plain": [
       "'CENTELLA A'"
      ]
     },
     "execution_count": 15,
     "metadata": {},
     "output_type": "execute_result"
    }
   ],
   "source": [
    "skin_care[\"moderate\"][2].upper()"
   ]
  },
  {
   "cell_type": "code",
   "execution_count": 16,
   "id": "29607d6c",
   "metadata": {},
   "outputs": [
    {
     "data": {
      "text/plain": [
       "{'tier': ['AHA', 'BHA', 'Retinol', 'Vitamin C'],\n",
       " 'moderate': ['Niacinamide', 'H Acid', 'Centella A'],\n",
       " 'lie': 'collagen'}"
      ]
     },
     "execution_count": 16,
     "metadata": {},
     "output_type": "execute_result"
    }
   ],
   "source": [
    "skin_care"
   ]
  },
  {
   "cell_type": "code",
   "execution_count": 22,
   "id": "c1806d69",
   "metadata": {},
   "outputs": [
    {
     "ename": "TypeError",
     "evalue": "unhashable type: 'slice'",
     "output_type": "error",
     "traceback": [
      "\u001b[1;31m---------------------------------------------------------------------------\u001b[0m",
      "\u001b[1;31mTypeError\u001b[0m                                 Traceback (most recent call last)",
      "Cell \u001b[1;32mIn[22], line 1\u001b[0m\n\u001b[1;32m----> 1\u001b[0m skin_care[\u001b[38;5;124m\"\u001b[39m\u001b[38;5;124mlie\u001b[39m\u001b[38;5;124m\"\u001b[39m:[\u001b[38;5;124m\"\u001b[39m\u001b[38;5;124mcollagen\u001b[39m\u001b[38;5;124m\"\u001b[39m]] \u001b[38;5;241m=\u001b[39m \u001b[38;5;124m\"\u001b[39m\u001b[38;5;124mmercury\u001b[39m\u001b[38;5;124m\"\u001b[39m\n",
      "\u001b[1;31mTypeError\u001b[0m: unhashable type: 'slice'"
     ]
    }
   ],
   "source": [
    "skin_care[\"lie\":[\"collagen\"]] = \"mercury\""
   ]
  },
  {
   "cell_type": "code",
   "execution_count": null,
   "id": "a7bb9dc5",
   "metadata": {},
   "outputs": [],
   "source": []
  }
 ],
 "metadata": {
  "kernelspec": {
   "display_name": "Python 3 (ipykernel)",
   "language": "python",
   "name": "python3"
  },
  "language_info": {
   "codemirror_mode": {
    "name": "ipython",
    "version": 3
   },
   "file_extension": ".py",
   "mimetype": "text/x-python",
   "name": "python",
   "nbconvert_exporter": "python",
   "pygments_lexer": "ipython3",
   "version": "3.10.9"
  }
 },
 "nbformat": 4,
 "nbformat_minor": 5
}
