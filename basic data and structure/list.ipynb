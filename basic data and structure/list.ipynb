{
 "cells": [
  {
   "cell_type": "code",
   "execution_count": 1,
   "id": "90d4a6c4",
   "metadata": {},
   "outputs": [],
   "source": [
    "my_list = [1,2,3]"
   ]
  },
  {
   "cell_type": "code",
   "execution_count": 2,
   "id": "43c5632c",
   "metadata": {},
   "outputs": [],
   "source": [
    "my_list = [\"bizarre\", \"beam\", 30]"
   ]
  },
  {
   "cell_type": "code",
   "execution_count": 3,
   "id": "847e8f68",
   "metadata": {},
   "outputs": [
    {
     "data": {
      "text/plain": [
       "['bizarre', 'beam']"
      ]
     },
     "execution_count": 3,
     "metadata": {},
     "output_type": "execute_result"
    }
   ],
   "source": [
    "my_list[:2]"
   ]
  },
  {
   "cell_type": "code",
   "execution_count": 4,
   "id": "ff63a821",
   "metadata": {},
   "outputs": [],
   "source": [
    "list = [\"me\", \"myself\", \"i\"]\n"
   ]
  },
  {
   "cell_type": "code",
   "execution_count": 5,
   "id": "fc2211f2",
   "metadata": {},
   "outputs": [],
   "source": [
    "list[2] = \"him\""
   ]
  },
  {
   "cell_type": "code",
   "execution_count": 6,
   "id": "e6d6a6dc",
   "metadata": {},
   "outputs": [
    {
     "name": "stdout",
     "output_type": "stream",
     "text": [
      "['me', 'myself', 'him']\n"
     ]
    }
   ],
   "source": [
    "print(list)"
   ]
  },
  {
   "cell_type": "code",
   "execution_count": 7,
   "id": "d32a1853",
   "metadata": {},
   "outputs": [],
   "source": [
    "# you don't have to assign a new variable to store changes in list values"
   ]
  },
  {
   "cell_type": "code",
   "execution_count": 8,
   "id": "e8b80d1f",
   "metadata": {},
   "outputs": [],
   "source": [
    "new_jeans = [\"minji\", \"sri\", \"hanni\", \"danielle\", \"hyein\", \"hyerin\"]"
   ]
  },
  {
   "cell_type": "code",
   "execution_count": 13,
   "id": "4372f7fa",
   "metadata": {},
   "outputs": [
    {
     "data": {
      "text/plain": [
       "'hyein'"
      ]
     },
     "execution_count": 13,
     "metadata": {},
     "output_type": "execute_result"
    }
   ],
   "source": [
    "new_jeans.pop()"
   ]
  },
  {
   "cell_type": "code",
   "execution_count": 14,
   "id": "02500b3c",
   "metadata": {},
   "outputs": [
    {
     "data": {
      "text/plain": [
       "['minji']"
      ]
     },
     "execution_count": 14,
     "metadata": {},
     "output_type": "execute_result"
    }
   ],
   "source": [
    "new_jeans"
   ]
  },
  {
   "cell_type": "code",
   "execution_count": 15,
   "id": "75152643",
   "metadata": {},
   "outputs": [],
   "source": [
    "new_list = [\"one\", \"two\", \"three\", \"four\", \"five\"]"
   ]
  },
  {
   "cell_type": "code",
   "execution_count": 16,
   "id": "a5c97713",
   "metadata": {},
   "outputs": [
    {
     "data": {
      "text/plain": [
       "'five'"
      ]
     },
     "execution_count": 16,
     "metadata": {},
     "output_type": "execute_result"
    }
   ],
   "source": [
    "new_list.pop()"
   ]
  },
  {
   "cell_type": "code",
   "execution_count": 17,
   "id": "9f9c474d",
   "metadata": {},
   "outputs": [
    {
     "data": {
      "text/plain": [
       "['one', 'two', 'three', 'four']"
      ]
     },
     "execution_count": 17,
     "metadata": {},
     "output_type": "execute_result"
    }
   ],
   "source": [
    "new_list"
   ]
  },
  {
   "cell_type": "code",
   "execution_count": 18,
   "id": "b192b026",
   "metadata": {},
   "outputs": [
    {
     "data": {
      "text/plain": [
       "'four'"
      ]
     },
     "execution_count": 18,
     "metadata": {},
     "output_type": "execute_result"
    }
   ],
   "source": [
    "new_list.pop(3)"
   ]
  },
  {
   "cell_type": "code",
   "execution_count": 19,
   "id": "8ff36fef",
   "metadata": {},
   "outputs": [
    {
     "data": {
      "text/plain": [
       "['one', 'two', 'three']"
      ]
     },
     "execution_count": 19,
     "metadata": {},
     "output_type": "execute_result"
    }
   ],
   "source": [
    "new_list"
   ]
  },
  {
   "cell_type": "code",
   "execution_count": null,
   "id": "6a0a42f2",
   "metadata": {},
   "outputs": [],
   "source": []
  }
 ],
 "metadata": {
  "kernelspec": {
   "display_name": "Python 3 (ipykernel)",
   "language": "python",
   "name": "python3"
  },
  "language_info": {
   "codemirror_mode": {
    "name": "ipython",
    "version": 3
   },
   "file_extension": ".py",
   "mimetype": "text/x-python",
   "name": "python",
   "nbconvert_exporter": "python",
   "pygments_lexer": "ipython3",
   "version": "3.10.9"
  }
 },
 "nbformat": 4,
 "nbformat_minor": 5
}
