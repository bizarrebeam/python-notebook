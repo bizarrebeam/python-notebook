{
 "cells": [
  {
   "cell_type": "code",
   "execution_count": 2,
   "id": "cd14a4f5",
   "metadata": {},
   "outputs": [],
   "source": [
    "# strings\n",
    "# sequence of characters only so it shud be\n",
    "# within parantheses\n",
    "# computers only recognize it as characters\n",
    "# immutable"
   ]
  },
  {
   "cell_type": "code",
   "execution_count": 3,
   "id": "ae17af86",
   "metadata": {},
   "outputs": [],
   "source": [
    "# list\n",
    "# sequence of any objects\n",
    "# within []\n",
    "# not immutable (cud assign it to different values)"
   ]
  },
  {
   "cell_type": "code",
   "execution_count": 1,
   "id": "09fea770",
   "metadata": {},
   "outputs": [],
   "source": [
    "# dictionary\n",
    "# we have no idea about the sequence because all\n",
    "# --- we know is using keyword\n",
    "# there cud be list within dictionary\n",
    "# using curly brackets {}\n",
    "# not immutable (cud assign it to different values)"
   ]
  },
  {
   "cell_type": "code",
   "execution_count": 2,
   "id": "10721700",
   "metadata": {},
   "outputs": [],
   "source": [
    "# tuples\n",
    "# could store any object like list\n",
    "# inside parantheses and immutable like strings\n",
    "# effective to store anything (inc\n",
    "# --- repeated object) and show integrity as it is\n",
    "# --- immutable)"
   ]
  },
  {
   "cell_type": "code",
   "execution_count": 4,
   "id": "4269eae3",
   "metadata": {},
   "outputs": [
    {
     "data": {
      "text/plain": [
       "{'M', 'i', 'p', 's'}"
      ]
     },
     "execution_count": 4,
     "metadata": {},
     "output_type": "execute_result"
    }
   ],
   "source": [
    "# sets\n",
    "# variables.set(store here)\n",
    "# stores in curly brackets\n",
    "# stores any object but count it as once \n",
    "# --- (didn't account repetance)\n",
    "# didn't have order, not immutable\n",
    "# e.g\n",
    "set(\"Mississippi\")"
   ]
  },
  {
   "cell_type": "code",
   "execution_count": null,
   "id": "a95d9ac3",
   "metadata": {},
   "outputs": [],
   "source": []
  }
 ],
 "metadata": {
  "kernelspec": {
   "display_name": "Python 3 (ipykernel)",
   "language": "python",
   "name": "python3"
  },
  "language_info": {
   "codemirror_mode": {
    "name": "ipython",
    "version": 3
   },
   "file_extension": ".py",
   "mimetype": "text/x-python",
   "name": "python",
   "nbconvert_exporter": "python",
   "pygments_lexer": "ipython3",
   "version": "3.11.4"
  }
 },
 "nbformat": 4,
 "nbformat_minor": 5
}
