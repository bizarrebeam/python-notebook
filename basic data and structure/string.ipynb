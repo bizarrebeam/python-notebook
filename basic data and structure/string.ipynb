{
 "cells": [
  {
   "cell_type": "code",
   "execution_count": 8,
   "id": "6671325d",
   "metadata": {},
   "outputs": [
    {
     "data": {
      "text/plain": [
       "13"
      ]
     },
     "execution_count": 8,
     "metadata": {},
     "output_type": "execute_result"
    }
   ],
   "source": [
    "len(\"bizarre beams\")"
   ]
  },
  {
   "cell_type": "code",
   "execution_count": 9,
   "id": "3bd28a6f",
   "metadata": {},
   "outputs": [],
   "source": [
    "myString = \"Hello World\""
   ]
  },
  {
   "cell_type": "code",
   "execution_count": 10,
   "id": "1a967e7a",
   "metadata": {},
   "outputs": [
    {
     "ename": "NameError",
     "evalue": "name 'mystring' is not defined",
     "output_type": "error",
     "traceback": [
      "\u001b[1;31m---------------------------------------------------------------------------\u001b[0m",
      "\u001b[1;31mNameError\u001b[0m                                 Traceback (most recent call last)",
      "Cell \u001b[1;32mIn[10], line 1\u001b[0m\n\u001b[1;32m----> 1\u001b[0m \u001b[43mmystring\u001b[49m[\u001b[38;5;241m9\u001b[39m]\n",
      "\u001b[1;31mNameError\u001b[0m: name 'mystring' is not defined"
     ]
    }
   ],
   "source": [
    "mystring[9]"
   ]
  },
  {
   "cell_type": "code",
   "execution_count": 11,
   "id": "086c5283",
   "metadata": {},
   "outputs": [
    {
     "data": {
      "text/plain": [
       "'l'"
      ]
     },
     "execution_count": 11,
     "metadata": {},
     "output_type": "execute_result"
    }
   ],
   "source": [
    "myString[9]"
   ]
  },
  {
   "cell_type": "code",
   "execution_count": 12,
   "id": "3f3fb00e",
   "metadata": {},
   "outputs": [
    {
     "ename": "NameError",
     "evalue": "name 'mystring' is not defined",
     "output_type": "error",
     "traceback": [
      "\u001b[1;31m---------------------------------------------------------------------------\u001b[0m",
      "\u001b[1;31mNameError\u001b[0m                                 Traceback (most recent call last)",
      "Cell \u001b[1;32mIn[12], line 1\u001b[0m\n\u001b[1;32m----> 1\u001b[0m \u001b[43mmystring\u001b[49m[\u001b[38;5;241m-\u001b[39m\u001b[38;5;241m3\u001b[39m]\n",
      "\u001b[1;31mNameError\u001b[0m: name 'mystring' is not defined"
     ]
    }
   ],
   "source": [
    "mystring[-3]"
   ]
  },
  {
   "cell_type": "code",
   "execution_count": 13,
   "id": "2e724379",
   "metadata": {},
   "outputs": [
    {
     "data": {
      "text/plain": [
       "'r'"
      ]
     },
     "execution_count": 13,
     "metadata": {},
     "output_type": "execute_result"
    }
   ],
   "source": [
    "myString[-3]"
   ]
  },
  {
   "cell_type": "code",
   "execution_count": 16,
   "id": "47143cc3",
   "metadata": {},
   "outputs": [
    {
     "data": {
      "text/plain": [
       "'efghj'"
      ]
     },
     "execution_count": 16,
     "metadata": {},
     "output_type": "execute_result"
    }
   ],
   "source": [
    "i[4:]"
   ]
  },
  {
   "cell_type": "code",
   "execution_count": 17,
   "id": "3055bfe6",
   "metadata": {},
   "outputs": [
    {
     "data": {
      "text/plain": [
       "'ab'"
      ]
     },
     "execution_count": 17,
     "metadata": {},
     "output_type": "execute_result"
    }
   ],
   "source": [
    "i[:2]"
   ]
  },
  {
   "cell_type": "code",
   "execution_count": 18,
   "id": "b7053a0d",
   "metadata": {},
   "outputs": [
    {
     "data": {
      "text/plain": [
       "'ab'"
      ]
     },
     "execution_count": 18,
     "metadata": {},
     "output_type": "execute_result"
    }
   ],
   "source": [
    "i[:2:]"
   ]
  },
  {
   "cell_type": "code",
   "execution_count": 19,
   "id": "eda68416",
   "metadata": {},
   "outputs": [
    {
     "data": {
      "text/plain": [
       "'cde'"
      ]
     },
     "execution_count": 19,
     "metadata": {},
     "output_type": "execute_result"
    }
   ],
   "source": [
    "i[2:5]"
   ]
  },
  {
   "cell_type": "code",
   "execution_count": 20,
   "id": "d5606e7a",
   "metadata": {},
   "outputs": [
    {
     "data": {
      "text/plain": [
       "'bcd'"
      ]
     },
     "execution_count": 20,
     "metadata": {},
     "output_type": "execute_result"
    }
   ],
   "source": [
    "i[1:4]"
   ]
  },
  {
   "cell_type": "code",
   "execution_count": 21,
   "id": "f1748675",
   "metadata": {},
   "outputs": [],
   "source": [
    "i = 12345678"
   ]
  },
  {
   "cell_type": "code",
   "execution_count": 1,
   "id": "c9298b30",
   "metadata": {},
   "outputs": [
    {
     "ename": "SyntaxError",
     "evalue": "invalid syntax (149114556.py, line 1)",
     "output_type": "error",
     "traceback": [
      "\u001b[1;36m  Cell \u001b[1;32mIn[1], line 1\u001b[1;36m\u001b[0m\n\u001b[1;33m    name = del\u001b[0m\n\u001b[1;37m           ^\u001b[0m\n\u001b[1;31mSyntaxError\u001b[0m\u001b[1;31m:\u001b[0m invalid syntax\n"
     ]
    }
   ],
   "source": [
    "name = del"
   ]
  },
  {
   "cell_type": "code",
   "execution_count": 2,
   "id": "7793bb44",
   "metadata": {},
   "outputs": [],
   "source": [
    "name = \"del\""
   ]
  },
  {
   "cell_type": "code",
   "execution_count": 3,
   "id": "2e4d4020",
   "metadata": {},
   "outputs": [],
   "source": [
    "last_letters = name[1:]"
   ]
  },
  {
   "cell_type": "code",
   "execution_count": 4,
   "id": "dd50e750",
   "metadata": {},
   "outputs": [
    {
     "data": {
      "text/plain": [
       "'el'"
      ]
     },
     "execution_count": 4,
     "metadata": {},
     "output_type": "execute_result"
    }
   ],
   "source": [
    "last_letters"
   ]
  },
  {
   "cell_type": "code",
   "execution_count": 5,
   "id": "364494af",
   "metadata": {},
   "outputs": [
    {
     "data": {
      "text/plain": [
       "'jel'"
      ]
     },
     "execution_count": 5,
     "metadata": {},
     "output_type": "execute_result"
    }
   ],
   "source": [
    "\"j\" + last_letters"
   ]
  },
  {
   "cell_type": "code",
   "execution_count": 11,
   "id": "2f7484ae",
   "metadata": {},
   "outputs": [],
   "source": [
    "j = \"hellaur\""
   ]
  },
  {
   "cell_type": "code",
   "execution_count": 15,
   "id": "3d3975e7",
   "metadata": {},
   "outputs": [],
   "source": [
    "j = j + \" naur \""
   ]
  },
  {
   "cell_type": "code",
   "execution_count": 16,
   "id": "2412a3ee",
   "metadata": {
    "scrolled": true
   },
   "outputs": [
    {
     "data": {
      "text/plain": [
       "'hellaur naur naur '"
      ]
     },
     "execution_count": 16,
     "metadata": {},
     "output_type": "execute_result"
    }
   ],
   "source": [
    "j"
   ]
  },
  {
   "cell_type": "code",
   "execution_count": 17,
   "id": "56b9ee9b",
   "metadata": {},
   "outputs": [
    {
     "data": {
      "text/plain": [
       "'hellaur naur naur hellaur naur naur hellaur naur naur '"
      ]
     },
     "execution_count": 17,
     "metadata": {},
     "output_type": "execute_result"
    }
   ],
   "source": [
    "j*3"
   ]
  },
  {
   "cell_type": "code",
   "execution_count": 18,
   "id": "29e9eed3",
   "metadata": {},
   "outputs": [],
   "source": [
    "i = \"bizarre beam\""
   ]
  },
  {
   "cell_type": "code",
   "execution_count": 19,
   "id": "49b3a351",
   "metadata": {},
   "outputs": [
    {
     "data": {
      "text/plain": [
       "'BIZARRE BEAM'"
      ]
     },
     "execution_count": 19,
     "metadata": {},
     "output_type": "execute_result"
    }
   ],
   "source": [
    "i.upper()"
   ]
  },
  {
   "cell_type": "code",
   "execution_count": 20,
   "id": "121e37f8",
   "metadata": {},
   "outputs": [],
   "source": [
    "i = i.upper() + \"instagram acc\""
   ]
  },
  {
   "cell_type": "code",
   "execution_count": 21,
   "id": "b7f59002",
   "metadata": {},
   "outputs": [
    {
     "data": {
      "text/plain": [
       "'BIZARRE BEAMinstagram acc'"
      ]
     },
     "execution_count": 21,
     "metadata": {},
     "output_type": "execute_result"
    }
   ],
   "source": [
    "i"
   ]
  },
  {
   "cell_type": "code",
   "execution_count": 22,
   "id": "98da2cc9",
   "metadata": {},
   "outputs": [
    {
     "data": {
      "text/plain": [
       "['BIZARRE', 'BEAMinstagram', 'acc']"
      ]
     },
     "execution_count": 22,
     "metadata": {},
     "output_type": "execute_result"
    }
   ],
   "source": [
    "i.split()"
   ]
  },
  {
   "cell_type": "code",
   "execution_count": 23,
   "id": "395ab5ca",
   "metadata": {},
   "outputs": [
    {
     "data": {
      "text/plain": [
       "['BIZARRE BEAMinst', 'gr', 'm ', 'cc']"
      ]
     },
     "execution_count": 23,
     "metadata": {},
     "output_type": "execute_result"
    }
   ],
   "source": [
    "i.split('a')"
   ]
  },
  {
   "cell_type": "code",
   "execution_count": 24,
   "id": "1fed97be",
   "metadata": {},
   "outputs": [
    {
     "data": {
      "text/plain": [
       "'bizarre beaminstagram acc'"
      ]
     },
     "execution_count": 24,
     "metadata": {},
     "output_type": "execute_result"
    }
   ],
   "source": [
    "i.lower()"
   ]
  },
  {
   "cell_type": "code",
   "execution_count": 25,
   "id": "d746c46c",
   "metadata": {},
   "outputs": [
    {
     "data": {
      "text/plain": [
       "['BIZARRE BEAMinst', 'gr', 'm ', 'cc']"
      ]
     },
     "execution_count": 25,
     "metadata": {},
     "output_type": "execute_result"
    }
   ],
   "source": [
    "i.split(\"a\")"
   ]
  },
  {
   "cell_type": "code",
   "execution_count": 26,
   "id": "546cd977",
   "metadata": {},
   "outputs": [],
   "source": [
    "i = i.lower()"
   ]
  },
  {
   "cell_type": "code",
   "execution_count": 27,
   "id": "b04563bf",
   "metadata": {},
   "outputs": [
    {
     "data": {
      "text/plain": [
       "['biz', 'rre be', 'minst', 'gr', 'm ', 'cc']"
      ]
     },
     "execution_count": 27,
     "metadata": {},
     "output_type": "execute_result"
    }
   ],
   "source": [
    "i.split(\"a\")"
   ]
  },
  {
   "cell_type": "code",
   "execution_count": null,
   "id": "78e662b6",
   "metadata": {},
   "outputs": [],
   "source": []
  }
 ],
 "metadata": {
  "kernelspec": {
   "display_name": "Python 3 (ipykernel)",
   "language": "python",
   "name": "python3"
  },
  "language_info": {
   "codemirror_mode": {
    "name": "ipython",
    "version": 3
   },
   "file_extension": ".py",
   "mimetype": "text/x-python",
   "name": "python",
   "nbconvert_exporter": "python",
   "pygments_lexer": "ipython3",
   "version": "3.10.9"
  }
 },
 "nbformat": 4,
 "nbformat_minor": 5
}
