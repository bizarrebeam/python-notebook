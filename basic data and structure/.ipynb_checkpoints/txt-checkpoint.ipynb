{
 "cells": [
  {
   "cell_type": "code",
   "execution_count": 4,
   "id": "637ebd67",
   "metadata": {},
   "outputs": [
    {
     "data": {
      "text/plain": [
       "\"C:\\\\Users\\\\adelya\\\\adelya's python stuff\""
      ]
     },
     "execution_count": 4,
     "metadata": {},
     "output_type": "execute_result"
    }
   ],
   "source": [
    "pwd"
   ]
  },
  {
   "cell_type": "code",
   "execution_count": 5,
   "id": "61cd7c28",
   "metadata": {},
   "outputs": [],
   "source": [
    "myfile = open(\"myfile.txt\")"
   ]
  },
  {
   "cell_type": "code",
   "execution_count": 6,
   "id": "ecbbd920",
   "metadata": {},
   "outputs": [
    {
     "data": {
      "text/plain": [
       "'drop everything now \\nmeet me in the pouring rain\\nkiss me on the sidewalk\\ntake away the pain\\ncause i see sparks fly\\n'"
      ]
     },
     "execution_count": 6,
     "metadata": {},
     "output_type": "execute_result"
    }
   ],
   "source": [
    "myfile.read()"
   ]
  },
  {
   "cell_type": "code",
   "execution_count": 7,
   "id": "bc56bf2d",
   "metadata": {},
   "outputs": [
    {
     "data": {
      "text/plain": [
       "''"
      ]
     },
     "execution_count": 7,
     "metadata": {},
     "output_type": "execute_result"
    }
   ],
   "source": [
    "myfile.read()"
   ]
  },
  {
   "cell_type": "code",
   "execution_count": 8,
   "id": "90d0e3c7",
   "metadata": {},
   "outputs": [
    {
     "data": {
      "text/plain": [
       "0"
      ]
     },
     "execution_count": 8,
     "metadata": {},
     "output_type": "execute_result"
    }
   ],
   "source": [
    "myfile.seek(0)"
   ]
  },
  {
   "cell_type": "code",
   "execution_count": 9,
   "id": "ee74af26",
   "metadata": {},
   "outputs": [
    {
     "data": {
      "text/plain": [
       "'drop everything now \\nmeet me in the pouring rain\\nkiss me on the sidewalk\\ntake away the pain\\ncause i see sparks fly\\n'"
      ]
     },
     "execution_count": 9,
     "metadata": {},
     "output_type": "execute_result"
    }
   ],
   "source": [
    "myfile.read()"
   ]
  },
  {
   "cell_type": "code",
   "execution_count": 10,
   "id": "7caeb37e",
   "metadata": {},
   "outputs": [
    {
     "data": {
      "text/plain": [
       "0"
      ]
     },
     "execution_count": 10,
     "metadata": {},
     "output_type": "execute_result"
    }
   ],
   "source": [
    "myfile.seek(0)"
   ]
  },
  {
   "cell_type": "code",
   "execution_count": 12,
   "id": "83656358",
   "metadata": {},
   "outputs": [
    {
     "data": {
      "text/plain": [
       "[]"
      ]
     },
     "execution_count": 12,
     "metadata": {},
     "output_type": "execute_result"
    }
   ],
   "source": [
    "myfile.readlines()"
   ]
  },
  {
   "cell_type": "code",
   "execution_count": 13,
   "id": "22f8a7cc",
   "metadata": {},
   "outputs": [
    {
     "data": {
      "text/plain": [
       "''"
      ]
     },
     "execution_count": 13,
     "metadata": {},
     "output_type": "execute_result"
    }
   ],
   "source": [
    "myfile.read()"
   ]
  },
  {
   "cell_type": "code",
   "execution_count": 14,
   "id": "c5f29581",
   "metadata": {},
   "outputs": [
    {
     "data": {
      "text/plain": [
       "0"
      ]
     },
     "execution_count": 14,
     "metadata": {},
     "output_type": "execute_result"
    }
   ],
   "source": [
    "myfile.seek(0)"
   ]
  },
  {
   "cell_type": "code",
   "execution_count": 15,
   "id": "f6fb5178",
   "metadata": {},
   "outputs": [
    {
     "data": {
      "text/plain": [
       "['drop everything now \\n',\n",
       " 'meet me in the pouring rain\\n',\n",
       " 'kiss me on the sidewalk\\n',\n",
       " 'take away the pain\\n',\n",
       " 'cause i see sparks fly\\n']"
      ]
     },
     "execution_count": 15,
     "metadata": {},
     "output_type": "execute_result"
    }
   ],
   "source": [
    "myfile.readlines()"
   ]
  },
  {
   "cell_type": "code",
   "execution_count": 16,
   "id": "e7c90c53",
   "metadata": {},
   "outputs": [
    {
     "data": {
      "text/plain": [
       "\"C:\\\\Users\\\\adelya\\\\adelya's python stuff\""
      ]
     },
     "execution_count": 16,
     "metadata": {},
     "output_type": "execute_result"
    }
   ],
   "source": [
    "pwd "
   ]
  },
  {
   "cell_type": "code",
   "execution_count": 17,
   "id": "9317101a",
   "metadata": {},
   "outputs": [],
   "source": [
    "myfile.close()"
   ]
  },
  {
   "cell_type": "code",
   "execution_count": 18,
   "id": "42327c2b",
   "metadata": {},
   "outputs": [],
   "source": [
    "with open(\"myfile.txt\") as my_new_file:\n",
    "    contents = my_new_file.read()"
   ]
  },
  {
   "cell_type": "code",
   "execution_count": 19,
   "id": "ae3e8eb6",
   "metadata": {},
   "outputs": [
    {
     "data": {
      "text/plain": [
       "'drop everything now \\nmeet me in the pouring rain\\nkiss me on the sidewalk\\ntake away the pain\\ncause i see sparks fly\\n'"
      ]
     },
     "execution_count": 19,
     "metadata": {},
     "output_type": "execute_result"
    }
   ],
   "source": [
    "contents"
   ]
  },
  {
   "cell_type": "code",
   "execution_count": 20,
   "id": "dd028111",
   "metadata": {},
   "outputs": [],
   "source": [
    "with open(\"myfile.txt\",  mode='r') as myfile:\n",
    "    contents = myfile.read()"
   ]
  },
  {
   "cell_type": "code",
   "execution_count": 21,
   "id": "ec82c825",
   "metadata": {},
   "outputs": [
    {
     "data": {
      "text/plain": [
       "'drop everything now \\nmeet me in the pouring rain\\nkiss me on the sidewalk\\ntake away the pain\\ncause i see sparks fly\\n'"
      ]
     },
     "execution_count": 21,
     "metadata": {},
     "output_type": "execute_result"
    }
   ],
   "source": [
    "contents"
   ]
  },
  {
   "cell_type": "code",
   "execution_count": 32,
   "id": "0f612f21",
   "metadata": {},
   "outputs": [
    {
     "name": "stdout",
     "output_type": "stream",
     "text": [
      "Overwriting my_new_file.txt\n"
     ]
    }
   ],
   "source": [
    "%%writefile my_new_file.txt\n",
    "this is me swallowing my pride\n",
    "standing in front of you\n",
    "saying i am sorry for that night"
   ]
  },
  {
   "cell_type": "code",
   "execution_count": 33,
   "id": "55df211b",
   "metadata": {},
   "outputs": [
    {
     "name": "stdout",
     "output_type": "stream",
     "text": [
      "this is me swallowing my pride\n",
      "standing in front of you\n",
      "saying i am sorry for that night\n",
      "\n"
     ]
    }
   ],
   "source": [
    "with open(\"my_new_file.txt\", mode = \"r\") as i:\n",
    "    print(i.read())"
   ]
  },
  {
   "cell_type": "code",
   "execution_count": 34,
   "id": "8bfe736a",
   "metadata": {},
   "outputs": [],
   "source": [
    "with (open\"my_new_file.txt\", mode= \"a\") as i:\n",
    "    i.write(\"\\nand i'd go back to december all the time\")"
   ]
  },
  {
   "cell_type": "code",
   "execution_count": 35,
   "id": "d37b4963",
   "metadata": {},
   "outputs": [
    {
     "name": "stdout",
     "output_type": "stream",
     "text": [
      "this is me swallowing my pride\n",
      "standing in front of you\n",
      "saying i am sorry for that night\n",
      "\n",
      "and i'd go back to december all the time\n"
     ]
    }
   ],
   "source": [
    "with open(\"my_new_file.txt\", mode = \"r\") as i:\n",
    "    print(i.read())"
   ]
  },
  {
   "cell_type": "code",
   "execution_count": 36,
   "id": "3fe15c47",
   "metadata": {},
   "outputs": [],
   "source": [
    "with open(\"bizarrebeam.txt\", mode = \"w\" ) as i:\n",
    "    i.write(\"her memories tend to wane yet dwells in shots domain\")"
   ]
  },
  {
   "cell_type": "code",
   "execution_count": 38,
   "id": "69d28a01",
   "metadata": {},
   "outputs": [
    {
     "name": "stdout",
     "output_type": "stream",
     "text": [
      "her memories tend to wane yet dwells in shots domain\n"
     ]
    }
   ],
   "source": [
    "with open(\"bizarrebeam.txt\", mode = \"r\") as i:\n",
    "    print(i.read())"
   ]
  },
  {
   "cell_type": "code",
   "execution_count": 42,
   "id": "0f351012",
   "metadata": {},
   "outputs": [
    {
     "name": "stdout",
     "output_type": "stream",
     "text": [
      "\n"
     ]
    }
   ],
   "source": [
    "with open(\"bizarrebeam.txt\", mode = \"w+\") as i:\n",
    "    i.write(\"\\nit's just a bunch of random photos\")\n",
    "    print(i.read())"
   ]
  },
  {
   "cell_type": "code",
   "execution_count": null,
   "id": "f63d4381",
   "metadata": {},
   "outputs": [],
   "source": [
    "myfile = open(\"bizarreb\")"
   ]
  }
 ],
 "metadata": {
  "kernelspec": {
   "display_name": "Python 3 (ipykernel)",
   "language": "python",
   "name": "python3"
  },
  "language_info": {
   "codemirror_mode": {
    "name": "ipython",
    "version": 3
   },
   "file_extension": ".py",
   "mimetype": "text/x-python",
   "name": "python",
   "nbconvert_exporter": "python",
   "pygments_lexer": "ipython3",
   "version": "3.10.9"
  }
 },
 "nbformat": 4,
 "nbformat_minor": 5
}
