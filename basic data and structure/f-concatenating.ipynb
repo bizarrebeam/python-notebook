{
 "cells": [
  {
   "cell_type": "code",
   "execution_count": 1,
   "id": "834624c1",
   "metadata": {},
   "outputs": [
    {
     "name": "stdout",
     "output_type": "stream",
     "text": [
      "bizarrebeams on instagram\n"
     ]
    }
   ],
   "source": [
    "print(\"bizarrebeams {}\".format(\"on instagram\"))"
   ]
  },
  {
   "cell_type": "code",
   "execution_count": 2,
   "id": "69daa097",
   "metadata": {},
   "outputs": [
    {
     "name": "stdout",
     "output_type": "stream",
     "text": [
      "i'm a bitch boss gloss\n"
     ]
    }
   ],
   "source": [
    "print(\"i'm a {} {} {}\".format(\"bitch\", \"boss\", \"gloss\"))"
   ]
  },
  {
   "cell_type": "code",
   "execution_count": 3,
   "id": "fda4b66f",
   "metadata": {},
   "outputs": [
    {
     "name": "stdout",
     "output_type": "stream",
     "text": [
      "i'm a gloss boss bitch\n"
     ]
    }
   ],
   "source": [
    "print(\"i'm a {2} {1} {0}\".format(\"bitch\", \"boss\", \"gloss\"))"
   ]
  },
  {
   "cell_type": "code",
   "execution_count": 4,
   "id": "871b2015",
   "metadata": {},
   "outputs": [
    {
     "name": "stdout",
     "output_type": "stream",
     "text": [
      "i'm a gloss bitch boss\n"
     ]
    }
   ],
   "source": [
    "print(\"i'm a {k} {i} {j}\".format(i=\"bitch\", j=\"boss\", k=\"gloss\"))"
   ]
  },
  {
   "cell_type": "code",
   "execution_count": 5,
   "id": "614a874e",
   "metadata": {},
   "outputs": [],
   "source": [
    "i = 22/7"
   ]
  },
  {
   "cell_type": "code",
   "execution_count": 6,
   "id": "0db9b2ed",
   "metadata": {},
   "outputs": [
    {
     "data": {
      "text/plain": [
       "3.142857142857143"
      ]
     },
     "execution_count": 6,
     "metadata": {},
     "output_type": "execute_result"
    }
   ],
   "source": [
    "i"
   ]
  },
  {
   "cell_type": "code",
   "execution_count": 12,
   "id": "76b61340",
   "metadata": {},
   "outputs": [
    {
     "name": "stdout",
     "output_type": "stream",
     "text": [
      "The value of pi is 3.143\n"
     ]
    }
   ],
   "source": [
    "print(\"The value of pi is {y:.3f}\".format(y=i))"
   ]
  },
  {
   "cell_type": "code",
   "execution_count": 13,
   "id": "d15a7780",
   "metadata": {},
   "outputs": [],
   "source": [
    "i = \"bitch\""
   ]
  },
  {
   "cell_type": "code",
   "execution_count": 14,
   "id": "3225b167",
   "metadata": {},
   "outputs": [],
   "source": [
    "j = \"boss\""
   ]
  },
  {
   "cell_type": "code",
   "execution_count": 15,
   "id": "ea702e71",
   "metadata": {},
   "outputs": [],
   "source": [
    "k = \"gloss\""
   ]
  },
  {
   "cell_type": "code",
   "execution_count": 17,
   "id": "7fa778ac",
   "metadata": {},
   "outputs": [
    {
     "name": "stdout",
     "output_type": "stream",
     "text": [
      "I'm a bitch, boss, gloss\n"
     ]
    }
   ],
   "source": [
    "print(f\"I'm a {i}, {j}, {k}\")"
   ]
  },
  {
   "cell_type": "code",
   "execution_count": 18,
   "id": "e5b62e74",
   "metadata": {},
   "outputs": [
    {
     "name": "stdout",
     "output_type": "stream",
     "text": [
      "My hobbies are overthinking, sleeping, nothing\n"
     ]
    }
   ],
   "source": [
    "print(\"My hobbies are {i}, {j}, {k}\".format(i=\"overthinking\", j=\"sleeping\", k=\"nothing\"))"
   ]
  },
  {
   "cell_type": "code",
   "execution_count": null,
   "id": "cf2d2b4c",
   "metadata": {},
   "outputs": [],
   "source": []
  }
 ],
 "metadata": {
  "kernelspec": {
   "display_name": "Python 3 (ipykernel)",
   "language": "python",
   "name": "python3"
  },
  "language_info": {
   "codemirror_mode": {
    "name": "ipython",
    "version": 3
   },
   "file_extension": ".py",
   "mimetype": "text/x-python",
   "name": "python",
   "nbconvert_exporter": "python",
   "pygments_lexer": "ipython3",
   "version": "3.10.9"
  }
 },
 "nbformat": 4,
 "nbformat_minor": 5
}
