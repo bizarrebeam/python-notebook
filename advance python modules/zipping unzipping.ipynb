{
 "cells": [
  {
   "cell_type": "code",
   "execution_count": 3,
   "id": "6a6a02cf",
   "metadata": {},
   "outputs": [],
   "source": [
    "f = open(\"fileone.txt\", \"w+\")\n",
    "f.write(\"ONE FILE\")\n",
    "f.close()"
   ]
  },
  {
   "cell_type": "code",
   "execution_count": 4,
   "id": "e2ffb10b",
   "metadata": {},
   "outputs": [],
   "source": [
    "f = open(\"filetwo.txt\", \"w+\")\n",
    "f.write(\"TWO FILE\")\n",
    "f.close()"
   ]
  },
  {
   "cell_type": "code",
   "execution_count": 7,
   "id": "ac1cc829",
   "metadata": {},
   "outputs": [],
   "source": [
    "import zipfile"
   ]
  },
  {
   "cell_type": "code",
   "execution_count": 10,
   "id": "602e4e0a",
   "metadata": {},
   "outputs": [],
   "source": [
    "# create the open, blank zip file\n",
    "comp_file = zipfile.ZipFile(\"comp_file.zip\", \"w\")"
   ]
  },
  {
   "cell_type": "code",
   "execution_count": 11,
   "id": "f7293a3a",
   "metadata": {},
   "outputs": [],
   "source": [
    "comp_file.write(\"fileone.txt\", compress_type = zipfile.ZIP_DEFLATED)"
   ]
  },
  {
   "cell_type": "code",
   "execution_count": 12,
   "id": "65d7893f",
   "metadata": {},
   "outputs": [],
   "source": [
    "comp_file.write(\"filetwo.txt\", compress_type = zipfile.ZIP_DEFLATED)"
   ]
  },
  {
   "cell_type": "code",
   "execution_count": 13,
   "id": "f504de6f",
   "metadata": {},
   "outputs": [],
   "source": [
    "comp_file.close() # done yeah"
   ]
  },
  {
   "cell_type": "code",
   "execution_count": 15,
   "id": "f11435b9",
   "metadata": {},
   "outputs": [],
   "source": [
    "zip_object = zipfile.ZipFile(\"comp_file.zip\",\"r\")"
   ]
  },
  {
   "cell_type": "code",
   "execution_count": 18,
   "id": "d1c67bc7",
   "metadata": {},
   "outputs": [],
   "source": [
    "zip_object.extractall(\"extracted_content\")\n",
    "# ekstrak ke file baru called extracted_content"
   ]
  },
  {
   "cell_type": "code",
   "execution_count": 19,
   "id": "806cad64",
   "metadata": {},
   "outputs": [
    {
     "data": {
      "text/plain": [
       "\"C:\\\\Users\\\\adelya\\\\adelya's python stuff\\\\advance python modules\""
      ]
     },
     "execution_count": 19,
     "metadata": {},
     "output_type": "execute_result"
    }
   ],
   "source": [
    "pwd"
   ]
  },
  {
   "cell_type": "code",
   "execution_count": 24,
   "id": "b79472d9",
   "metadata": {},
   "outputs": [],
   "source": [
    "import shutil # ini extract entire folder easier"
   ]
  },
  {
   "cell_type": "code",
   "execution_count": 25,
   "id": "bf7326da",
   "metadata": {},
   "outputs": [],
   "source": [
    "dir_to_zip = \"C:\\\\Users\\\\adelya\\\\adelya's python stuff\\\\advance python modules\\\\extracted_content\""
   ]
  },
  {
   "cell_type": "code",
   "execution_count": 26,
   "id": "dd371c60",
   "metadata": {},
   "outputs": [],
   "source": [
    "output_filename = \"example\""
   ]
  },
  {
   "cell_type": "code",
   "execution_count": 27,
   "id": "03993cbf",
   "metadata": {},
   "outputs": [
    {
     "data": {
      "text/plain": [
       "\"C:\\\\Users\\\\adelya\\\\adelya's python stuff\\\\advance python modules\\\\example.zip\""
      ]
     },
     "execution_count": 27,
     "metadata": {},
     "output_type": "execute_result"
    }
   ],
   "source": [
    "shutil.make_archive(output_filename, \"zip\", dir_to_zip)"
   ]
  },
  {
   "cell_type": "code",
   "execution_count": 28,
   "id": "023242f6",
   "metadata": {},
   "outputs": [],
   "source": [
    "shutil.unpack_archive(\"example.zip\", \"final_unzip\", \"zip\")"
   ]
  },
  {
   "cell_type": "code",
   "execution_count": null,
   "id": "43332850",
   "metadata": {},
   "outputs": [],
   "source": []
  }
 ],
 "metadata": {
  "kernelspec": {
   "display_name": "Python 3 (ipykernel)",
   "language": "python",
   "name": "python3"
  },
  "language_info": {
   "codemirror_mode": {
    "name": "ipython",
    "version": 3
   },
   "file_extension": ".py",
   "mimetype": "text/x-python",
   "name": "python",
   "nbconvert_exporter": "python",
   "pygments_lexer": "ipython3",
   "version": "3.10.9"
  }
 },
 "nbformat": 4,
 "nbformat_minor": 5
}
