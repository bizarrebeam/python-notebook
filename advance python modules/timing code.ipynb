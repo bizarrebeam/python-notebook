{
 "cells": [
  {
   "cell_type": "code",
   "execution_count": 1,
   "id": "a91efcaf",
   "metadata": {},
   "outputs": [],
   "source": [
    "def func_one(n):\n",
    "    return [str(num) for num in range(n)]"
   ]
  },
  {
   "cell_type": "code",
   "execution_count": 2,
   "id": "5661160c",
   "metadata": {},
   "outputs": [
    {
     "data": {
      "text/plain": [
       "['0', '1', '2', '3', '4', '5', '6', '7', '8', '9', '10']"
      ]
     },
     "execution_count": 2,
     "metadata": {},
     "output_type": "execute_result"
    }
   ],
   "source": [
    "func_one(11)"
   ]
  },
  {
   "cell_type": "code",
   "execution_count": 3,
   "id": "7affb925",
   "metadata": {},
   "outputs": [],
   "source": [
    "def func_two(n):\n",
    "    return list(map(str, range(n)))"
   ]
  },
  {
   "cell_type": "code",
   "execution_count": 4,
   "id": "98497770",
   "metadata": {},
   "outputs": [
    {
     "data": {
      "text/plain": [
       "['0', '1', '2', '3', '4', '5', '6', '7', '8', '9', '10']"
      ]
     },
     "execution_count": 4,
     "metadata": {},
     "output_type": "execute_result"
    }
   ],
   "source": [
    "func_two(11)"
   ]
  },
  {
   "cell_type": "code",
   "execution_count": 5,
   "id": "247f3945",
   "metadata": {},
   "outputs": [],
   "source": [
    "import time"
   ]
  },
  {
   "cell_type": "code",
   "execution_count": 6,
   "id": "8e964c0a",
   "metadata": {},
   "outputs": [
    {
     "name": "stdout",
     "output_type": "stream",
     "text": [
      "0.12087178230285645\n"
     ]
    }
   ],
   "source": [
    "# current time before run the code\n",
    "start_time = time.time()\n",
    "\n",
    "# run the code\n",
    "result = func_one(1000000)\n",
    "\n",
    "# current time after running the code\n",
    "end_time = time.time()\n",
    "\n",
    "# elapsed time (waktu brlalu)\n",
    "elapsed_time = end_time - start_time\n",
    "\n",
    "print(elapsed_time)"
   ]
  },
  {
   "cell_type": "code",
   "execution_count": 7,
   "id": "1fd75c52",
   "metadata": {},
   "outputs": [
    {
     "name": "stdout",
     "output_type": "stream",
     "text": [
      "0.10613298416137695\n"
     ]
    }
   ],
   "source": [
    "# current time before run the code\n",
    "start_time = time.time()\n",
    "\n",
    "# run the code\n",
    "result = func_two(1000000)\n",
    "\n",
    "# current time after running the code\n",
    "end_time = time.time()\n",
    "\n",
    "# elapsed time (waktu brlalu)\n",
    "elapsed_time = end_time - start_time\n",
    "\n",
    "print(elapsed_time)"
   ]
  },
  {
   "cell_type": "code",
   "execution_count": 8,
   "id": "175f9eb5",
   "metadata": {},
   "outputs": [
    {
     "name": "stdout",
     "output_type": "stream",
     "text": [
      "0.012763261795043945\n"
     ]
    }
   ],
   "source": [
    "# current time before run the code\n",
    "start_time = time.time()\n",
    "\n",
    "# run the code\n",
    "result = func_two(10)\n",
    "\n",
    "# current time after running the code\n",
    "end_time = time.time()\n",
    "\n",
    "# elapsed time (waktu brlalu)\n",
    "elapsed_time = end_time - start_time\n",
    "\n",
    "print(elapsed_time)"
   ]
  },
  {
   "cell_type": "code",
   "execution_count": 9,
   "id": "a2ce75eb",
   "metadata": {},
   "outputs": [
    {
     "name": "stdout",
     "output_type": "stream",
     "text": [
      "0.0009999275207519531\n"
     ]
    }
   ],
   "source": [
    "# current time before run the code\n",
    "start_time = time.time()\n",
    "\n",
    "# run the code\n",
    "result = func_two(1)\n",
    "\n",
    "# current time after running the code\n",
    "end_time = time.time()\n",
    "\n",
    "# elapsed time (waktu brlalu)\n",
    "elapsed_time = end_time - start_time\n",
    "\n",
    "print(elapsed_time)"
   ]
  },
  {
   "cell_type": "code",
   "execution_count": 10,
   "id": "f9f46d04",
   "metadata": {},
   "outputs": [],
   "source": [
    "import timeit"
   ]
  },
  {
   "cell_type": "code",
   "execution_count": 11,
   "id": "93624925",
   "metadata": {},
   "outputs": [],
   "source": [
    "stmt = \"\"\"\n",
    "func_one(100)\n",
    "\"\"\""
   ]
  },
  {
   "cell_type": "code",
   "execution_count": 12,
   "id": "123efcc0",
   "metadata": {},
   "outputs": [],
   "source": [
    "setup = \"\"\"\n",
    "def func_one(n):\n",
    "    return [str(num) for num in range(n)]\n",
    "\"\"\""
   ]
  },
  {
   "cell_type": "code",
   "execution_count": 13,
   "id": "deacc6d6",
   "metadata": {},
   "outputs": [
    {
     "data": {
      "text/plain": [
       "0.010452800000166462"
      ]
     },
     "execution_count": 13,
     "metadata": {},
     "output_type": "execute_result"
    }
   ],
   "source": [
    "timeit.timeit(stmt, setup, number = 1000)"
   ]
  },
  {
   "cell_type": "code",
   "execution_count": 14,
   "id": "8fe9ed63",
   "metadata": {},
   "outputs": [
    {
     "data": {
      "text/plain": [
       "0.00014740000005986076"
      ]
     },
     "execution_count": 14,
     "metadata": {},
     "output_type": "execute_result"
    }
   ],
   "source": [
    "timeit.timeit(stmt, setup, number = 10)"
   ]
  },
  {
   "cell_type": "code",
   "execution_count": 15,
   "id": "b65eb04b",
   "metadata": {},
   "outputs": [],
   "source": [
    "stmt2 = (\"\"\"\n",
    "func_two(100)\n",
    "\"\"\")"
   ]
  },
  {
   "cell_type": "code",
   "execution_count": 16,
   "id": "98482064",
   "metadata": {},
   "outputs": [],
   "source": [
    "setup2 = \"\"\"\n",
    "def func_two(n):\n",
    "    return list(map(str, range(n)))\n",
    "\"\"\""
   ]
  },
  {
   "cell_type": "code",
   "execution_count": 17,
   "id": "08f509ed",
   "metadata": {},
   "outputs": [
    {
     "data": {
      "text/plain": [
       "9.520000003249152e-05"
      ]
     },
     "execution_count": 17,
     "metadata": {},
     "output_type": "execute_result"
    }
   ],
   "source": [
    "timeit.timeit(stmt2, setup2, number = 10)"
   ]
  },
  {
   "cell_type": "code",
   "execution_count": null,
   "id": "8b9f61c6",
   "metadata": {},
   "outputs": [],
   "source": []
  },
  {
   "cell_type": "code",
   "execution_count": null,
   "id": "d3237922",
   "metadata": {},
   "outputs": [],
   "source": []
  },
  {
   "cell_type": "code",
   "execution_count": null,
   "id": "16d09e91",
   "metadata": {},
   "outputs": [],
   "source": [
    "%%timeit\n",
    "func_two(100)"
   ]
  },
  {
   "cell_type": "code",
   "execution_count": null,
   "id": "5eaef5e0",
   "metadata": {},
   "outputs": [],
   "source": [
    "%%timeit\n",
    "func_one(100)"
   ]
  },
  {
   "cell_type": "code",
   "execution_count": null,
   "id": "9f784c34",
   "metadata": {},
   "outputs": [],
   "source": []
  }
 ],
 "metadata": {
  "kernelspec": {
   "display_name": "Python 3 (ipykernel)",
   "language": "python",
   "name": "python3"
  },
  "language_info": {
   "codemirror_mode": {
    "name": "ipython",
    "version": 3
   },
   "file_extension": ".py",
   "mimetype": "text/x-python",
   "name": "python",
   "nbconvert_exporter": "python",
   "pygments_lexer": "ipython3",
   "version": "3.10.9"
  }
 },
 "nbformat": 4,
 "nbformat_minor": 5
}
