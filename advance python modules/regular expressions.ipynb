{
 "cells": [
  {
   "cell_type": "code",
   "execution_count": 1,
   "id": "cd7b7395",
   "metadata": {},
   "outputs": [],
   "source": [
    "text = \"The agent's phone number is 0812-1682-7990\""
   ]
  },
  {
   "cell_type": "code",
   "execution_count": 2,
   "id": "9bc82415",
   "metadata": {},
   "outputs": [
    {
     "data": {
      "text/plain": [
       "True"
      ]
     },
     "execution_count": 2,
     "metadata": {},
     "output_type": "execute_result"
    }
   ],
   "source": [
    "\"phone\" in text"
   ]
  },
  {
   "cell_type": "code",
   "execution_count": 3,
   "id": "5e477aaf",
   "metadata": {},
   "outputs": [],
   "source": [
    "import re"
   ]
  },
  {
   "cell_type": "code",
   "execution_count": 4,
   "id": "3e3d7cd9",
   "metadata": {},
   "outputs": [],
   "source": [
    "pattern = \"phone\""
   ]
  },
  {
   "cell_type": "code",
   "execution_count": 5,
   "id": "d1c13145",
   "metadata": {},
   "outputs": [
    {
     "data": {
      "text/plain": [
       "<re.Match object; span=(12, 17), match='phone'>"
      ]
     },
     "execution_count": 5,
     "metadata": {},
     "output_type": "execute_result"
    }
   ],
   "source": [
    "re.search(pattern, text) # span is index"
   ]
  },
  {
   "cell_type": "code",
   "execution_count": 6,
   "id": "b3da47e7",
   "metadata": {},
   "outputs": [],
   "source": [
    "pattern = \"ade\""
   ]
  },
  {
   "cell_type": "code",
   "execution_count": 7,
   "id": "57f6e6cf",
   "metadata": {},
   "outputs": [],
   "source": [
    "re.search(pattern, text) # no match"
   ]
  },
  {
   "cell_type": "code",
   "execution_count": 8,
   "id": "4237489c",
   "metadata": {},
   "outputs": [],
   "source": [
    "# find repeated word matches\n",
    "text = \"my phone android, my dream phone iphone\"\n",
    "\n",
    "matches = re.findall(\"phone\", text)"
   ]
  },
  {
   "cell_type": "code",
   "execution_count": 9,
   "id": "3c959f94",
   "metadata": {},
   "outputs": [
    {
     "data": {
      "text/plain": [
       "['phone', 'phone', 'phone']"
      ]
     },
     "execution_count": 9,
     "metadata": {},
     "output_type": "execute_result"
    }
   ],
   "source": [
    "matches"
   ]
  },
  {
   "cell_type": "code",
   "execution_count": 10,
   "id": "6b7b3dcf",
   "metadata": {},
   "outputs": [
    {
     "name": "stdout",
     "output_type": "stream",
     "text": [
      "<re.Match object; span=(3, 8), match='phone'>\n",
      "<re.Match object; span=(27, 32), match='phone'>\n",
      "<re.Match object; span=(34, 39), match='phone'>\n"
     ]
    }
   ],
   "source": [
    "for match in re.finditer(\"phone\", text):\n",
    "    print(match)"
   ]
  },
  {
   "cell_type": "code",
   "execution_count": 11,
   "id": "57114bf1",
   "metadata": {},
   "outputs": [
    {
     "name": "stdout",
     "output_type": "stream",
     "text": [
      "(3, 8)\n",
      "(27, 32)\n",
      "(34, 39)\n"
     ]
    }
   ],
   "source": [
    "for match in re.finditer(\"phone\", text):\n",
    "    print(match.span())"
   ]
  },
  {
   "cell_type": "code",
   "execution_count": 12,
   "id": "df35cf1e",
   "metadata": {},
   "outputs": [
    {
     "name": "stdout",
     "output_type": "stream",
     "text": [
      "phone\n",
      "phone\n",
      "phone\n"
     ]
    }
   ],
   "source": [
    "for match in re.finditer(\"phone\", text):\n",
    "    print(match.group())"
   ]
  },
  {
   "cell_type": "code",
   "execution_count": 13,
   "id": "350ba782",
   "metadata": {},
   "outputs": [],
   "source": [
    "text = \"my phone number is 0812-8811-8872\""
   ]
  },
  {
   "cell_type": "code",
   "execution_count": 14,
   "id": "c46b0cb5",
   "metadata": {},
   "outputs": [],
   "source": [
    "phone = re.search(\"0812-8811-8872\", text)"
   ]
  },
  {
   "cell_type": "code",
   "execution_count": 15,
   "id": "7ddafad9",
   "metadata": {},
   "outputs": [
    {
     "data": {
      "text/plain": [
       "<re.Match object; span=(19, 33), match='0812-8811-8872'>"
      ]
     },
     "execution_count": 15,
     "metadata": {},
     "output_type": "execute_result"
    }
   ],
   "source": [
    "phone"
   ]
  },
  {
   "cell_type": "code",
   "execution_count": 16,
   "id": "f8f318f1",
   "metadata": {},
   "outputs": [],
   "source": [
    "phone = re.search(r\"\\d{4}-\\d{4}-\\d{4}\", text)"
   ]
  },
  {
   "cell_type": "code",
   "execution_count": 17,
   "id": "91cc24d0",
   "metadata": {},
   "outputs": [
    {
     "data": {
      "text/plain": [
       "<re.Match object; span=(19, 33), match='0812-8811-8872'>"
      ]
     },
     "execution_count": 17,
     "metadata": {},
     "output_type": "execute_result"
    }
   ],
   "source": [
    "phone"
   ]
  },
  {
   "cell_type": "code",
   "execution_count": 18,
   "id": "dc1b2faf",
   "metadata": {},
   "outputs": [
    {
     "data": {
      "text/plain": [
       "'0812-8811-8872'"
      ]
     },
     "execution_count": 18,
     "metadata": {},
     "output_type": "execute_result"
    }
   ],
   "source": [
    "phone.group()"
   ]
  },
  {
   "cell_type": "code",
   "execution_count": 19,
   "id": "5e172cde",
   "metadata": {},
   "outputs": [],
   "source": [
    "# it's extract the group more specifically\n",
    "# esp when searching phone areas only (the index 1)\n",
    "phone_pattern = re.compile(r\"(\\d{4})-(\\d{4})-(\\d{4})\")"
   ]
  },
  {
   "cell_type": "code",
   "execution_count": 20,
   "id": "9f07f9f0",
   "metadata": {},
   "outputs": [],
   "source": [
    "results = re.search(phone_pattern, text)"
   ]
  },
  {
   "cell_type": "code",
   "execution_count": 21,
   "id": "ae4ddc0d",
   "metadata": {},
   "outputs": [
    {
     "data": {
      "text/plain": [
       "<re.Match object; span=(19, 33), match='0812-8811-8872'>"
      ]
     },
     "execution_count": 21,
     "metadata": {},
     "output_type": "execute_result"
    }
   ],
   "source": [
    "results"
   ]
  },
  {
   "cell_type": "code",
   "execution_count": 22,
   "id": "8f44bff7",
   "metadata": {},
   "outputs": [
    {
     "data": {
      "text/plain": [
       "'8811'"
      ]
     },
     "execution_count": 22,
     "metadata": {},
     "output_type": "execute_result"
    }
   ],
   "source": [
    "results.group(2) # grouping starts from index 1-2-3"
   ]
  },
  {
   "cell_type": "code",
   "execution_count": 23,
   "id": "f3a8c905",
   "metadata": {},
   "outputs": [
    {
     "data": {
      "text/plain": [
       "<re.Match object; span=(4, 7), match='cat'>"
      ]
     },
     "execution_count": 23,
     "metadata": {},
     "output_type": "execute_result"
    }
   ],
   "source": [
    "re.search(r\"cat\", \"the cat is here!\")"
   ]
  },
  {
   "cell_type": "code",
   "execution_count": 24,
   "id": "4a0e0f29",
   "metadata": {},
   "outputs": [
    {
     "data": {
      "text/plain": [
       "<re.Match object; span=(4, 7), match='cat'>"
      ]
     },
     "execution_count": 24,
     "metadata": {},
     "output_type": "execute_result"
    }
   ],
   "source": [
    "re.search(r\"cat|dog\", \"the cat is here!\")"
   ]
  },
  {
   "cell_type": "code",
   "execution_count": 25,
   "id": "d5bb8946",
   "metadata": {},
   "outputs": [
    {
     "data": {
      "text/plain": [
       "['at', 'at', 'at']"
      ]
     },
     "execution_count": 25,
     "metadata": {},
     "output_type": "execute_result"
    }
   ],
   "source": [
    "re.findall(r\"at\", \"The cat in the hat sat there\")"
   ]
  },
  {
   "cell_type": "code",
   "execution_count": 26,
   "id": "85dcc3d4",
   "metadata": {},
   "outputs": [
    {
     "data": {
      "text/plain": [
       "['cat', 'hat', 'sat', 'lat']"
      ]
     },
     "execution_count": 26,
     "metadata": {},
     "output_type": "execute_result"
    }
   ],
   "source": [
    "re.findall(r\".at\", \"The cat in the hat sat there went splat \")\n",
    "# grab the whole words"
   ]
  },
  {
   "cell_type": "code",
   "execution_count": 27,
   "id": "a8845141",
   "metadata": {},
   "outputs": [
    {
     "data": {
      "text/plain": [
       "['e cat', 'e hat', 'splat']"
      ]
     },
     "execution_count": 27,
     "metadata": {},
     "output_type": "execute_result"
    }
   ],
   "source": [
    "re.findall(r\"...at\", \"The cat in the hat sat there went splat \")\n",
    "# grab the 3 precedent word"
   ]
  },
  {
   "cell_type": "code",
   "execution_count": 28,
   "id": "9a5d841b",
   "metadata": {},
   "outputs": [
    {
     "data": {
      "text/plain": [
       "['1']"
      ]
     },
     "execution_count": 28,
     "metadata": {},
     "output_type": "execute_result"
    }
   ],
   "source": [
    "re.findall(r\"^\\d\", \"1 is a number\")\n",
    "# cuma bisa kalau num nya ada di awal bgt klimat"
   ]
  },
  {
   "cell_type": "code",
   "execution_count": 29,
   "id": "f7135f8d",
   "metadata": {},
   "outputs": [
    {
     "data": {
      "text/plain": [
       "['1']"
      ]
     },
     "execution_count": 29,
     "metadata": {},
     "output_type": "execute_result"
    }
   ],
   "source": [
    "re.findall(r\"\\d\", \"1 is a number\")"
   ]
  },
  {
   "cell_type": "code",
   "execution_count": 30,
   "id": "5a931b7a",
   "metadata": {},
   "outputs": [
    {
     "data": {
      "text/plain": [
       "['1']"
      ]
     },
     "execution_count": 30,
     "metadata": {},
     "output_type": "execute_result"
    }
   ],
   "source": [
    "re.findall(r\"\\d\", \"do ya know that 1 is a number\")"
   ]
  },
  {
   "cell_type": "code",
   "execution_count": 31,
   "id": "5337886b",
   "metadata": {},
   "outputs": [
    {
     "data": {
      "text/plain": [
       "['2']"
      ]
     },
     "execution_count": 31,
     "metadata": {},
     "output_type": "execute_result"
    }
   ],
   "source": [
    "# cuma bisa kalau num ada di akhir kalimat\n",
    "re.findall(r\"\\d$\", \"The number is 2\")\n"
   ]
  },
  {
   "cell_type": "code",
   "execution_count": 32,
   "id": "d9aecd3a",
   "metadata": {},
   "outputs": [
    {
     "data": {
      "text/plain": [
       "[]"
      ]
     },
     "execution_count": 32,
     "metadata": {},
     "output_type": "execute_result"
    }
   ],
   "source": [
    "re.findall(r\"\\d$\", \"The number is 2 tho\")"
   ]
  },
  {
   "cell_type": "code",
   "execution_count": 33,
   "id": "ff04c91a",
   "metadata": {},
   "outputs": [],
   "source": [
    "# exclusion\n"
   ]
  },
  {
   "cell_type": "code",
   "execution_count": 34,
   "id": "62b2fce7",
   "metadata": {},
   "outputs": [],
   "source": [
    "phrase = \"There are 3 numbers 34 inside 5 this sentence\""
   ]
  },
  {
   "cell_type": "code",
   "execution_count": 35,
   "id": "60c1b2a0",
   "metadata": {},
   "outputs": [],
   "source": [
    "# i want to exclude digit"
   ]
  },
  {
   "cell_type": "code",
   "execution_count": 36,
   "id": "fc0416f3",
   "metadata": {},
   "outputs": [],
   "source": [
    "pattern = r\"[^\\d]\""
   ]
  },
  {
   "cell_type": "code",
   "execution_count": 37,
   "id": "eb9535b3",
   "metadata": {},
   "outputs": [
    {
     "data": {
      "text/plain": [
       "['T',\n",
       " 'h',\n",
       " 'e',\n",
       " 'r',\n",
       " 'e',\n",
       " ' ',\n",
       " 'a',\n",
       " 'r',\n",
       " 'e',\n",
       " ' ',\n",
       " ' ',\n",
       " 'n',\n",
       " 'u',\n",
       " 'm',\n",
       " 'b',\n",
       " 'e',\n",
       " 'r',\n",
       " 's',\n",
       " ' ',\n",
       " ' ',\n",
       " 'i',\n",
       " 'n',\n",
       " 's',\n",
       " 'i',\n",
       " 'd',\n",
       " 'e',\n",
       " ' ',\n",
       " ' ',\n",
       " 't',\n",
       " 'h',\n",
       " 'i',\n",
       " 's',\n",
       " ' ',\n",
       " 's',\n",
       " 'e',\n",
       " 'n',\n",
       " 't',\n",
       " 'e',\n",
       " 'n',\n",
       " 'c',\n",
       " 'e']"
      ]
     },
     "execution_count": 37,
     "metadata": {},
     "output_type": "execute_result"
    }
   ],
   "source": [
    "re.findall(pattern, phrase)"
   ]
  },
  {
   "cell_type": "code",
   "execution_count": 38,
   "id": "83e2e7c0",
   "metadata": {},
   "outputs": [],
   "source": [
    "pattern = r\"[^\\d]+\""
   ]
  },
  {
   "cell_type": "code",
   "execution_count": 39,
   "id": "4557f8d4",
   "metadata": {},
   "outputs": [
    {
     "data": {
      "text/plain": [
       "['There are ', ' numbers ', ' inside ', ' this sentence']"
      ]
     },
     "execution_count": 39,
     "metadata": {},
     "output_type": "execute_result"
    }
   ],
   "source": [
    "re.findall(pattern, phrase)"
   ]
  },
  {
   "cell_type": "code",
   "execution_count": 40,
   "id": "46d716db",
   "metadata": {},
   "outputs": [],
   "source": [
    "test_phrase = \"This is a string,, but it has punctuatuion! how we can remove that???\""
   ]
  },
  {
   "cell_type": "code",
   "execution_count": 41,
   "id": "1332d6ee",
   "metadata": {},
   "outputs": [
    {
     "data": {
      "text/plain": [
       "['This',\n",
       " 'is',\n",
       " 'a',\n",
       " 'string',\n",
       " 'but',\n",
       " 'it',\n",
       " 'has',\n",
       " 'punctuatuion',\n",
       " 'how',\n",
       " 'we',\n",
       " 'can',\n",
       " 'remove',\n",
       " 'that']"
      ]
     },
     "execution_count": 41,
     "metadata": {},
     "output_type": "execute_result"
    }
   ],
   "source": [
    "re.findall(r\"[^!,.? ]+\", test_phrase)"
   ]
  },
  {
   "cell_type": "code",
   "execution_count": 42,
   "id": "90fc8d9a",
   "metadata": {},
   "outputs": [],
   "source": [
    "clean = re.findall(r\"[^!,.? ]+\", test_phrase)"
   ]
  },
  {
   "cell_type": "code",
   "execution_count": 43,
   "id": "b5dbbbe9",
   "metadata": {},
   "outputs": [
    {
     "data": {
      "text/plain": [
       "'This is a string but it has punctuatuion how we can remove that'"
      ]
     },
     "execution_count": 43,
     "metadata": {},
     "output_type": "execute_result"
    }
   ],
   "source": [
    "\" \". join(clean)"
   ]
  },
  {
   "cell_type": "code",
   "execution_count": 44,
   "id": "1b4107c7",
   "metadata": {},
   "outputs": [],
   "source": [
    "# inclusion"
   ]
  },
  {
   "cell_type": "code",
   "execution_count": 45,
   "id": "37224808",
   "metadata": {},
   "outputs": [],
   "source": [
    "text = \"Only find the hypen-words in this sentence. But you do not know how long-ish they are.\""
   ]
  },
  {
   "cell_type": "code",
   "execution_count": 48,
   "id": "17c7fe75",
   "metadata": {},
   "outputs": [],
   "source": [
    "pattern = r\"[\\w]+-[\\w]+\""
   ]
  },
  {
   "cell_type": "code",
   "execution_count": 49,
   "id": "8b5dc386",
   "metadata": {},
   "outputs": [
    {
     "data": {
      "text/plain": [
       "['hypen-words', 'long-ish']"
      ]
     },
     "execution_count": 49,
     "metadata": {},
     "output_type": "execute_result"
    }
   ],
   "source": [
    "re.findall(pattern, text)"
   ]
  },
  {
   "cell_type": "code",
   "execution_count": 50,
   "id": "398b3906",
   "metadata": {},
   "outputs": [],
   "source": [
    "text = 'Hello, would you like some catfish?'\n",
    "texttwo = \"Hello, would you like to take a catnap?\"\n",
    "textthree = \"Hello, have you seen this caterpillar?\""
   ]
  },
  {
   "cell_type": "code",
   "execution_count": 51,
   "id": "5ac132aa",
   "metadata": {},
   "outputs": [
    {
     "data": {
      "text/plain": [
       "<re.Match object; span=(32, 38), match='catnap'>"
      ]
     },
     "execution_count": 51,
     "metadata": {},
     "output_type": "execute_result"
    }
   ],
   "source": [
    "re.search(r\"cat(fish|nap|claw)\", texttwo)"
   ]
  },
  {
   "cell_type": "code",
   "execution_count": 52,
   "id": "123a3525",
   "metadata": {},
   "outputs": [
    {
     "data": {
      "text/plain": [
       "<re.Match object; span=(27, 34), match='catfish'>"
      ]
     },
     "execution_count": 52,
     "metadata": {},
     "output_type": "execute_result"
    }
   ],
   "source": [
    "re.search(r\"cat(fish|nap|claw)\", text)"
   ]
  },
  {
   "cell_type": "code",
   "execution_count": 53,
   "id": "10b12412",
   "metadata": {},
   "outputs": [],
   "source": [
    "re.search(r\"cat(fish|nap|claw)\", textthree)"
   ]
  },
  {
   "cell_type": "code",
   "execution_count": null,
   "id": "e7b53b2c",
   "metadata": {},
   "outputs": [],
   "source": []
  },
  {
   "cell_type": "code",
   "execution_count": 56,
   "id": "07d72041",
   "metadata": {},
   "outputs": [
    {
     "data": {
      "text/plain": [
       "<re.Match object; span=(26, 37), match='caterpillar'>"
      ]
     },
     "execution_count": 56,
     "metadata": {},
     "output_type": "execute_result"
    }
   ],
   "source": [
    "re.search(r\"cat(fish|nap|erpillar)\", textthree)"
   ]
  },
  {
   "cell_type": "code",
   "execution_count": null,
   "id": "5b6dbe35",
   "metadata": {},
   "outputs": [],
   "source": []
  }
 ],
 "metadata": {
  "kernelspec": {
   "display_name": "Python 3 (ipykernel)",
   "language": "python",
   "name": "python3"
  },
  "language_info": {
   "codemirror_mode": {
    "name": "ipython",
    "version": 3
   },
   "file_extension": ".py",
   "mimetype": "text/x-python",
   "name": "python",
   "nbconvert_exporter": "python",
   "pygments_lexer": "ipython3",
   "version": "3.10.9"
  }
 },
 "nbformat": 4,
 "nbformat_minor": 5
}
