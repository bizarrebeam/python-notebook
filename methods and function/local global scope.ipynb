{
 "cells": [
  {
   "cell_type": "code",
   "execution_count": 9,
   "id": "0c119c49",
   "metadata": {},
   "outputs": [],
   "source": [
    "x = 30\n",
    "\n",
    "def func():\n",
    "   \n",
    "    print(f\"Right now, X is {x}\")\n",
    "    \n",
    "    x = \"NEWJEANS\"\n",
    "    print(f\"I am jamming the X into {x}\")"
   ]
  },
  {
   "cell_type": "code",
   "execution_count": 10,
   "id": "e8f4aec0",
   "metadata": {},
   "outputs": [
    {
     "name": "stdout",
     "output_type": "stream",
     "text": [
      "30\n"
     ]
    }
   ],
   "source": [
    "print(x)"
   ]
  },
  {
   "cell_type": "code",
   "execution_count": 13,
   "id": "5538a3ca",
   "metadata": {},
   "outputs": [
    {
     "name": "stdout",
     "output_type": "stream",
     "text": [
      "Right now, X is NEWJEANS\n",
      "I am jamming the X into NEWJEANS\n"
     ]
    }
   ],
   "source": [
    "func()"
   ]
  },
  {
   "cell_type": "code",
   "execution_count": 14,
   "id": "10262177",
   "metadata": {},
   "outputs": [],
   "source": [
    "x = 30\n",
    "\n",
    "def func():\n",
    "    global x\n",
    "    print(f\"Right now, X is {x}\")\n",
    "    \n",
    "    x = \"NEWJEANS\"\n",
    "    print(f\"I am jamming the X into {x}\")"
   ]
  },
  {
   "cell_type": "code",
   "execution_count": 15,
   "id": "0e10a44c",
   "metadata": {},
   "outputs": [
    {
     "name": "stdout",
     "output_type": "stream",
     "text": [
      "Right now, X is 30\n",
      "I am jamming the X into NEWJEANS\n"
     ]
    }
   ],
   "source": [
    "func()"
   ]
  },
  {
   "cell_type": "code",
   "execution_count": 23,
   "id": "6145f316",
   "metadata": {},
   "outputs": [],
   "source": [
    "x = 30\n",
    "\n",
    "def func(x):\n",
    "    print(f\"Right now, X is {x}\")\n",
    "    \n",
    "    x = \"NEWJEANS\"\n",
    "    print(f\"I am jamming the X into {x}\")\n",
    "    return x"
   ]
  },
  {
   "cell_type": "code",
   "execution_count": 24,
   "id": "ab2496f4",
   "metadata": {},
   "outputs": [
    {
     "name": "stdout",
     "output_type": "stream",
     "text": [
      "Right now, X is 30\n",
      "I am jamming the X into NEWJEANS\n"
     ]
    }
   ],
   "source": [
    "x = func(x)\n"
   ]
  },
  {
   "cell_type": "code",
   "execution_count": 25,
   "id": "81006de7",
   "metadata": {},
   "outputs": [
    {
     "data": {
      "text/plain": [
       "'NEWJEANS'"
      ]
     },
     "execution_count": 25,
     "metadata": {},
     "output_type": "execute_result"
    }
   ],
   "source": [
    "x"
   ]
  },
  {
   "cell_type": "code",
   "execution_count": null,
   "id": "09d7775f",
   "metadata": {},
   "outputs": [],
   "source": []
  }
 ],
 "metadata": {
  "kernelspec": {
   "display_name": "Python 3 (ipykernel)",
   "language": "python",
   "name": "python3"
  },
  "language_info": {
   "codemirror_mode": {
    "name": "ipython",
    "version": 3
   },
   "file_extension": ".py",
   "mimetype": "text/x-python",
   "name": "python",
   "nbconvert_exporter": "python",
   "pygments_lexer": "ipython3",
   "version": "3.10.9"
  }
 },
 "nbformat": 4,
 "nbformat_minor": 5
}
