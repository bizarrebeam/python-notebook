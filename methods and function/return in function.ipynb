{
 "cells": [
  {
   "cell_type": "code",
   "execution_count": 2,
   "id": "17b2069f",
   "metadata": {},
   "outputs": [],
   "source": [
    "mylist = [1,2,3]"
   ]
  },
  {
   "cell_type": "code",
   "execution_count": 3,
   "id": "224a4e4a",
   "metadata": {},
   "outputs": [
    {
     "data": {
      "text/plain": [
       "<function list.insert(index, object, /)>"
      ]
     },
     "execution_count": 3,
     "metadata": {},
     "output_type": "execute_result"
    }
   ],
   "source": [
    "mylist.insert"
   ]
  },
  {
   "cell_type": "code",
   "execution_count": 6,
   "id": "dba09ac0",
   "metadata": {},
   "outputs": [],
   "source": [
    "def say_hello(name):\n",
    "    print(f\"hello {name}\")\n",
    "    "
   ]
  },
  {
   "cell_type": "code",
   "execution_count": 7,
   "id": "2ee02e87",
   "metadata": {},
   "outputs": [
    {
     "name": "stdout",
     "output_type": "stream",
     "text": [
      "helloadel\n"
     ]
    }
   ],
   "source": [
    "say_hello(\"adel\")"
   ]
  },
  {
   "cell_type": "code",
   "execution_count": 16,
   "id": "e1957539",
   "metadata": {},
   "outputs": [],
   "source": [
    "def check_odd(num_list):\n",
    "    for number in num_list:\n",
    "        if number %2 != 0:\n",
    "            return True\n",
    "        else:\n",
    "            pass\n",
    "    print(\"Ain't odd\")"
   ]
  },
  {
   "cell_type": "code",
   "execution_count": 17,
   "id": "72c1fe9a",
   "metadata": {},
   "outputs": [
    {
     "data": {
      "text/plain": [
       "True"
      ]
     },
     "execution_count": 17,
     "metadata": {},
     "output_type": "execute_result"
    }
   ],
   "source": [
    "check_odd([1,3,5])"
   ]
  },
  {
   "cell_type": "code",
   "execution_count": 18,
   "id": "09dea1c4",
   "metadata": {},
   "outputs": [
    {
     "data": {
      "text/plain": [
       "True"
      ]
     },
     "execution_count": 18,
     "metadata": {},
     "output_type": "execute_result"
    }
   ],
   "source": [
    "check_odd([1,3,6])"
   ]
  },
  {
   "cell_type": "code",
   "execution_count": 19,
   "id": "6711524c",
   "metadata": {},
   "outputs": [
    {
     "name": "stdout",
     "output_type": "stream",
     "text": [
      "Ain't odd\n"
     ]
    }
   ],
   "source": [
    "check_odd([2,4,6])"
   ]
  },
  {
   "cell_type": "code",
   "execution_count": null,
   "id": "08163f67",
   "metadata": {},
   "outputs": [],
   "source": []
  }
 ],
 "metadata": {
  "kernelspec": {
   "display_name": "Python 3 (ipykernel)",
   "language": "python",
   "name": "python3"
  },
  "language_info": {
   "codemirror_mode": {
    "name": "ipython",
    "version": 3
   },
   "file_extension": ".py",
   "mimetype": "text/x-python",
   "name": "python",
   "nbconvert_exporter": "python",
   "pygments_lexer": "ipython3",
   "version": "3.10.9"
  }
 },
 "nbformat": 4,
 "nbformat_minor": 5
}
