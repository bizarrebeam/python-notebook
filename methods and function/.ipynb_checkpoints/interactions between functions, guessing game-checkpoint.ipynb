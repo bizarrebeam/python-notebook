{
 "cells": [
  {
   "cell_type": "code",
   "execution_count": 1,
   "id": "20af8ead",
   "metadata": {},
   "outputs": [],
   "source": [
    "skincare = [(\"toner\", 30), (\"serum\", 100), (\"moist\", 80)]"
   ]
  },
  {
   "cell_type": "code",
   "execution_count": 3,
   "id": "44b16cf7",
   "metadata": {},
   "outputs": [
    {
     "name": "stdout",
     "output_type": "stream",
     "text": [
      "toner\n",
      "serum\n",
      "moist\n"
     ]
    }
   ],
   "source": [
    "for item, price in skincare:\n",
    "    print(item)"
   ]
  },
  {
   "cell_type": "code",
   "execution_count": 5,
   "id": "9c2ab8b0",
   "metadata": {},
   "outputs": [
    {
     "name": "stdout",
     "output_type": "stream",
     "text": [
      "toner 30000 rupiah\n",
      "serum 100000 rupiah\n",
      "moist 80000 rupiah\n"
     ]
    }
   ],
   "source": [
    "for item, price in skincare:\n",
    "    print(item, price*1000, \"rupiah\")"
   ]
  },
  {
   "cell_type": "code",
   "execution_count": 9,
   "id": "59f294e3",
   "metadata": {},
   "outputs": [],
   "source": [
    "work_and_hours = [(\"A\", 100), (\"B\", 3000), (\"C\", 500)]\n",
    "\n",
    "\n",
    "def best_employee(work_and_hours):\n",
    "    max_hours = 0\n",
    "    employee_of_month = \"\"\n",
    "    \n",
    "    for employee, hours in work_and_hours:\n",
    "        if hours > max_hours:\n",
    "            max_hours = hours\n",
    "            employee_of_month = employee\n",
    "        else:\n",
    "            pass\n",
    "    \n",
    "    return(employee_of_month, max_hours)"
   ]
  },
  {
   "cell_type": "code",
   "execution_count": 10,
   "id": "5c043577",
   "metadata": {},
   "outputs": [
    {
     "data": {
      "text/plain": [
       "('B', 3000)"
      ]
     },
     "execution_count": 10,
     "metadata": {},
     "output_type": "execute_result"
    }
   ],
   "source": [
    "best_employee(work_and_hours)"
   ]
  },
  {
   "cell_type": "code",
   "execution_count": 11,
   "id": "ffe236ad",
   "metadata": {},
   "outputs": [],
   "source": [
    "name, hours = best_employee(work_and_hours)"
   ]
  },
  {
   "cell_type": "code",
   "execution_count": 12,
   "id": "9db701b4",
   "metadata": {},
   "outputs": [
    {
     "data": {
      "text/plain": [
       "3000"
      ]
     },
     "execution_count": 12,
     "metadata": {},
     "output_type": "execute_result"
    }
   ],
   "source": [
    "hours"
   ]
  },
  {
   "cell_type": "code",
   "execution_count": 13,
   "id": "91c02f2d",
   "metadata": {},
   "outputs": [],
   "source": [
    "# this is the interaction between functions"
   ]
  },
  {
   "cell_type": "code",
   "execution_count": 14,
   "id": "48f1d3a5",
   "metadata": {},
   "outputs": [],
   "source": [
    "ex = [1,2,3,4,5,6,7]"
   ]
  },
  {
   "cell_type": "code",
   "execution_count": 15,
   "id": "353711a4",
   "metadata": {},
   "outputs": [],
   "source": [
    "from random import shuffle"
   ]
  },
  {
   "cell_type": "code",
   "execution_count": 16,
   "id": "35a5f0f1",
   "metadata": {},
   "outputs": [],
   "source": [
    "shuffle(ex)"
   ]
  },
  {
   "cell_type": "code",
   "execution_count": 17,
   "id": "49a0de3e",
   "metadata": {},
   "outputs": [
    {
     "data": {
      "text/plain": [
       "[1, 3, 5, 2, 6, 7, 4]"
      ]
     },
     "execution_count": 17,
     "metadata": {},
     "output_type": "execute_result"
    }
   ],
   "source": [
    "ex"
   ]
  },
  {
   "cell_type": "code",
   "execution_count": 18,
   "id": "9e09cb74",
   "metadata": {},
   "outputs": [],
   "source": [
    "def shuffle_list(mylist):\n",
    "    shuffle(mylist)\n",
    "    return mylist"
   ]
  },
  {
   "cell_type": "code",
   "execution_count": 20,
   "id": "0b576734",
   "metadata": {},
   "outputs": [
    {
     "data": {
      "text/plain": [
       "[7, 6, 3, 2, 1, 4, 5]"
      ]
     },
     "execution_count": 20,
     "metadata": {},
     "output_type": "execute_result"
    }
   ],
   "source": [
    "shuffle_list(ex)"
   ]
  },
  {
   "cell_type": "code",
   "execution_count": 21,
   "id": "dbfdad72",
   "metadata": {},
   "outputs": [],
   "source": [
    "my_list = [\"\", \"\", \"red\", \"\"]"
   ]
  },
  {
   "cell_type": "code",
   "execution_count": null,
   "id": "e08da2e0",
   "metadata": {},
   "outputs": [],
   "source": []
  },
  {
   "cell_type": "code",
   "execution_count": 30,
   "id": "78459a42",
   "metadata": {},
   "outputs": [
    {
     "name": "stdout",
     "output_type": "stream",
     "text": [
      "Pick a number among 0, 1, 2, or 3: 2\n"
     ]
    }
   ],
   "source": [
    "def player_guess():\n",
    "    guess = \"\"\n",
    "    \n",
    "    while guess not in [\"0\", \"1\", \"2\", \"3\"]:\n",
    "        guess = input(\"Pick a number among 0, 1, 2, or 3: \")\n",
    "    return int(guess)\n",
    "guess = player_guess()"
   ]
  },
  {
   "cell_type": "code",
   "execution_count": 24,
   "id": "13979766",
   "metadata": {},
   "outputs": [],
   "source": [
    "def check_guess(mylist, guess):\n",
    "    if mylist[guess] == \"red\":\n",
    "        print(\"Yeay correct!\")\n",
    "    else:\n",
    "        print(\"Wrong guess!\")\n",
    "        print(mylist)"
   ]
  },
  {
   "cell_type": "code",
   "execution_count": 31,
   "id": "f5f56c8d",
   "metadata": {},
   "outputs": [
    {
     "name": "stdout",
     "output_type": "stream",
     "text": [
      "Pick a number among 0, 1, 2, or 3: 0\n",
      "Yeay correct!\n"
     ]
    }
   ],
   "source": [
    "# the initial list\n",
    "from random import shuffle\n",
    "\n",
    "my_list = [\"\", \"\", \"red\", \"\"]\n",
    "\n",
    "# shuffling the list\n",
    "def shuffle_list(my_list):\n",
    "    shuffle(my_list)\n",
    "    return my_list\n",
    "my_list = shuffle_list(my_list)\n",
    "\n",
    "# let user guess\n",
    "def player_guess():\n",
    "    guess = \"\"\n",
    "    \n",
    "    while guess not in [\"0\", \"1\", \"2\", \"3\"]:\n",
    "        guess = input(\"Pick a number among 0, 1, 2, or 3: \")\n",
    "    return int(guess)\n",
    "guess = player_guess()\n",
    "\n",
    "# check the user's guess\n",
    "def check_guess(my_list, guess):\n",
    "    if my_list[guess] == \"red\":\n",
    "        print(\"Yeay correct!\")\n",
    "    else:\n",
    "        print(\"Wrong guess!\")\n",
    "        print(my_list)\n",
    "        \n",
    "check_guess(my_list, guess)"
   ]
  },
  {
   "cell_type": "code",
   "execution_count": null,
   "id": "a5e9b2c9",
   "metadata": {},
   "outputs": [],
   "source": []
  }
 ],
 "metadata": {
  "kernelspec": {
   "display_name": "Python 3 (ipykernel)",
   "language": "python",
   "name": "python3"
  },
  "language_info": {
   "codemirror_mode": {
    "name": "ipython",
    "version": 3
   },
   "file_extension": ".py",
   "mimetype": "text/x-python",
   "name": "python",
   "nbconvert_exporter": "python",
   "pygments_lexer": "ipython3",
   "version": "3.10.9"
  }
 },
 "nbformat": 4,
 "nbformat_minor": 5
}
