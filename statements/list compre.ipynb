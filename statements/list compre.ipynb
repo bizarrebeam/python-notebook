{
 "cells": [
  {
   "cell_type": "code",
   "execution_count": 1,
   "id": "077e4d46",
   "metadata": {},
   "outputs": [],
   "source": [
    "mystring = \"bizarre\""
   ]
  },
  {
   "cell_type": "code",
   "execution_count": 2,
   "id": "4f59580c",
   "metadata": {},
   "outputs": [],
   "source": [
    "mylist = []\n",
    "\n",
    "for letter in mystring:\n",
    "    mylist.append(letter)"
   ]
  },
  {
   "cell_type": "code",
   "execution_count": 3,
   "id": "98922238",
   "metadata": {},
   "outputs": [
    {
     "data": {
      "text/plain": [
       "['b', 'i', 'z', 'a', 'r', 'r', 'e']"
      ]
     },
     "execution_count": 3,
     "metadata": {},
     "output_type": "execute_result"
    }
   ],
   "source": [
    "mylist"
   ]
  },
  {
   "cell_type": "code",
   "execution_count": 4,
   "id": "fc9c662a",
   "metadata": {},
   "outputs": [],
   "source": [
    "i = [j for j in \"hello world\"]"
   ]
  },
  {
   "cell_type": "code",
   "execution_count": 5,
   "id": "39c7797f",
   "metadata": {},
   "outputs": [
    {
     "data": {
      "text/plain": [
       "['h', 'e', 'l', 'l', 'o', ' ', 'w', 'o', 'r', 'l', 'd']"
      ]
     },
     "execution_count": 5,
     "metadata": {},
     "output_type": "execute_result"
    }
   ],
   "source": [
    "i"
   ]
  },
  {
   "cell_type": "code",
   "execution_count": 10,
   "id": "a5435a15",
   "metadata": {},
   "outputs": [],
   "source": [
    "i = [num-1 for num in range (0, 10)] "
   ]
  },
  {
   "cell_type": "code",
   "execution_count": 11,
   "id": "e9099a1f",
   "metadata": {},
   "outputs": [
    {
     "data": {
      "text/plain": [
       "[-1, 0, 1, 2, 3, 4, 5, 6, 7, 8]"
      ]
     },
     "execution_count": 11,
     "metadata": {},
     "output_type": "execute_result"
    }
   ],
   "source": [
    "i"
   ]
  },
  {
   "cell_type": "code",
   "execution_count": 13,
   "id": "14683763",
   "metadata": {},
   "outputs": [],
   "source": [
    "celc = [14, 28, 32, 40]\n",
    "\n",
    "fahr = [((9/5) * temp + 32) for temp in celc]\n"
   ]
  },
  {
   "cell_type": "code",
   "execution_count": 14,
   "id": "9767037a",
   "metadata": {},
   "outputs": [
    {
     "data": {
      "text/plain": [
       "[57.2, 82.4, 89.6, 104.0]"
      ]
     },
     "execution_count": 14,
     "metadata": {},
     "output_type": "execute_result"
    }
   ],
   "source": [
    "fahr"
   ]
  },
  {
   "cell_type": "code",
   "execution_count": null,
   "id": "60ad1aeb",
   "metadata": {},
   "outputs": [],
   "source": []
  }
 ],
 "metadata": {
  "kernelspec": {
   "display_name": "Python 3 (ipykernel)",
   "language": "python",
   "name": "python3"
  },
  "language_info": {
   "codemirror_mode": {
    "name": "ipython",
    "version": 3
   },
   "file_extension": ".py",
   "mimetype": "text/x-python",
   "name": "python",
   "nbconvert_exporter": "python",
   "pygments_lexer": "ipython3",
   "version": "3.10.9"
  }
 },
 "nbformat": 4,
 "nbformat_minor": 5
}
