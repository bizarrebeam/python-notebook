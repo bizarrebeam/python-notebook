{
 "cells": [
  {
   "cell_type": "code",
   "execution_count": 3,
   "id": "ba0afedf",
   "metadata": {},
   "outputs": [
    {
     "name": "stdout",
     "output_type": "stream",
     "text": [
      "At index 0 the letter is h\n",
      "At index 1 the letter is e\n",
      "At index 2 the letter is l\n",
      "At index 3 the letter is l\n",
      "At index 4 the letter is o\n",
      "At index 5 the letter is  \n",
      "At index 6 the letter is w\n",
      "At index 7 the letter is o\n",
      "At index 8 the letter is r\n",
      "At index 9 the letter is l\n",
      "At index 10 the letter is d\n"
     ]
    }
   ],
   "source": [
    "index_count = 0\n",
    "\n",
    "for letter in \"hello world\":\n",
    "    print(f\"At index {index_count} the letter is {letter}\")\n",
    "    index_count += 1"
   ]
  },
  {
   "cell_type": "code",
   "execution_count": 6,
   "id": "80fd3b82",
   "metadata": {},
   "outputs": [
    {
     "name": "stdout",
     "output_type": "stream",
     "text": [
      "0\n",
      "b\n",
      "1\n",
      "i\n",
      "2\n",
      "z\n",
      "3\n",
      "a\n",
      "4\n",
      "r\n",
      "5\n",
      "r\n",
      "6\n",
      "e\n"
     ]
    }
   ],
   "source": [
    "i = \"bizarre\"\n",
    "\n",
    "for a, b in enumerate(i):\n",
    "    print(a)\n",
    "    print(b)\n"
   ]
  },
  {
   "cell_type": "code",
   "execution_count": 7,
   "id": "c86d55ce",
   "metadata": {},
   "outputs": [],
   "source": [
    "i = [1,2,3,4,5]\n",
    "j = [\"a\", \"b\", \"c\", \"d\", \"e\"]"
   ]
  },
  {
   "cell_type": "code",
   "execution_count": 8,
   "id": "0896db8c",
   "metadata": {},
   "outputs": [
    {
     "name": "stdout",
     "output_type": "stream",
     "text": [
      "(1, 'a')\n",
      "(2, 'b')\n",
      "(3, 'c')\n",
      "(4, 'd')\n",
      "(5, 'e')\n"
     ]
    }
   ],
   "source": [
    "for item in zip(i, j):\n",
    "    print(item)"
   ]
  },
  {
   "cell_type": "code",
   "execution_count": 9,
   "id": "64e19ed0",
   "metadata": {},
   "outputs": [
    {
     "data": {
      "text/plain": [
       "[(1, 'a'), (2, 'b'), (3, 'c'), (4, 'd'), (5, 'e')]"
      ]
     },
     "execution_count": 9,
     "metadata": {},
     "output_type": "execute_result"
    }
   ],
   "source": [
    "list(zip(i, j))"
   ]
  },
  {
   "cell_type": "code",
   "execution_count": 10,
   "id": "5538c907",
   "metadata": {},
   "outputs": [],
   "source": [
    "from random import shuffle"
   ]
  },
  {
   "cell_type": "code",
   "execution_count": 11,
   "id": "d3ed3622",
   "metadata": {},
   "outputs": [],
   "source": [
    "pam = [\"walk the talk\", \"flying solo\", \"solipsism\", \"birdy\"]"
   ]
  },
  {
   "cell_type": "code",
   "execution_count": 13,
   "id": "2abfde3f",
   "metadata": {},
   "outputs": [],
   "source": [
    "shuffle(pam)"
   ]
  },
  {
   "cell_type": "code",
   "execution_count": 14,
   "id": "e5b3632d",
   "metadata": {},
   "outputs": [
    {
     "data": {
      "text/plain": [
       "['solipsism', 'birdy', 'walk the talk', 'flying solo']"
      ]
     },
     "execution_count": 14,
     "metadata": {},
     "output_type": "execute_result"
    }
   ],
   "source": [
    "pam"
   ]
  },
  {
   "cell_type": "code",
   "execution_count": 15,
   "id": "9ba7fe0c",
   "metadata": {},
   "outputs": [
    {
     "name": "stdout",
     "output_type": "stream",
     "text": [
      "['solipsism', 'birdy', 'walk the talk', 'flying solo']\n"
     ]
    }
   ],
   "source": [
    "print(pam)"
   ]
  },
  {
   "cell_type": "code",
   "execution_count": 3,
   "id": "100ed042",
   "metadata": {},
   "outputs": [],
   "source": [
    "def myfunc(*args):\n",
    "    word = \"\"\n",
    "    for i in range(0, len(args)-1):\n",
    "        if args[i] %2 != 0:\n",
    "            word.append(i.lower())\n",
    "        else:\n",
    "            word.append(i.upper())\n",
    "        return ''.join(word)\n",
    "        "
   ]
  },
  {
   "cell_type": "code",
   "execution_count": 4,
   "id": "47077789",
   "metadata": {},
   "outputs": [],
   "source": [
    "myfunc(\"solipsism\")"
   ]
  },
  {
   "cell_type": "code",
   "execution_count": 5,
   "id": "e332a76b",
   "metadata": {},
   "outputs": [],
   "source": [
    "def myfunc(*args):\n",
    "    word = \"\"\n",
    "    for i in range(len(args)):\n",
    "        if i %2 != 0:\n",
    "            word.append(i.lower())\n",
    "        else:\n",
    "            word.append(i.upper())\n",
    "        return ''.join(word)\n",
    "        "
   ]
  },
  {
   "cell_type": "code",
   "execution_count": 6,
   "id": "3ddb2ef8",
   "metadata": {},
   "outputs": [
    {
     "ename": "AttributeError",
     "evalue": "'str' object has no attribute 'append'",
     "output_type": "error",
     "traceback": [
      "\u001b[1;31m---------------------------------------------------------------------------\u001b[0m",
      "\u001b[1;31mAttributeError\u001b[0m                            Traceback (most recent call last)",
      "Cell \u001b[1;32mIn[6], line 1\u001b[0m\n\u001b[1;32m----> 1\u001b[0m \u001b[43mmyfunc\u001b[49m\u001b[43m(\u001b[49m\u001b[38;5;124;43m\"\u001b[39;49m\u001b[38;5;124;43msolipsism\u001b[39;49m\u001b[38;5;124;43m\"\u001b[39;49m\u001b[43m)\u001b[49m\n",
      "Cell \u001b[1;32mIn[5], line 7\u001b[0m, in \u001b[0;36mmyfunc\u001b[1;34m(*args)\u001b[0m\n\u001b[0;32m      5\u001b[0m     word\u001b[38;5;241m.\u001b[39mappend(i\u001b[38;5;241m.\u001b[39mlower())\n\u001b[0;32m      6\u001b[0m \u001b[38;5;28;01melse\u001b[39;00m:\n\u001b[1;32m----> 7\u001b[0m     \u001b[43mword\u001b[49m\u001b[38;5;241;43m.\u001b[39;49m\u001b[43mappend\u001b[49m(i\u001b[38;5;241m.\u001b[39mupper())\n\u001b[0;32m      8\u001b[0m \u001b[38;5;28;01mreturn\u001b[39;00m \u001b[38;5;124m'\u001b[39m\u001b[38;5;124m'\u001b[39m\u001b[38;5;241m.\u001b[39mjoin(word)\n",
      "\u001b[1;31mAttributeError\u001b[0m: 'str' object has no attribute 'append'"
     ]
    }
   ],
   "source": [
    "myfunc(\"solipsism\")"
   ]
  },
  {
   "cell_type": "code",
   "execution_count": 7,
   "id": "5792e9fb",
   "metadata": {},
   "outputs": [],
   "source": [
    "def myfunc(*args):\n",
    "    word = \"\"\n",
    "    for i in range(len(args)):\n",
    "        if i %2 != 0:\n",
    "            word.append(args[i].lower())\n",
    "        else:\n",
    "            word.append(args[i].upper())\n",
    "        return ''.join(word)\n",
    "        "
   ]
  },
  {
   "cell_type": "code",
   "execution_count": 8,
   "id": "7fde591a",
   "metadata": {},
   "outputs": [
    {
     "ename": "AttributeError",
     "evalue": "'str' object has no attribute 'append'",
     "output_type": "error",
     "traceback": [
      "\u001b[1;31m---------------------------------------------------------------------------\u001b[0m",
      "\u001b[1;31mAttributeError\u001b[0m                            Traceback (most recent call last)",
      "Cell \u001b[1;32mIn[8], line 1\u001b[0m\n\u001b[1;32m----> 1\u001b[0m \u001b[43mmyfunc\u001b[49m\u001b[43m(\u001b[49m\u001b[38;5;124;43m\"\u001b[39;49m\u001b[38;5;124;43msolipsism\u001b[39;49m\u001b[38;5;124;43m\"\u001b[39;49m\u001b[43m)\u001b[49m\n",
      "Cell \u001b[1;32mIn[7], line 7\u001b[0m, in \u001b[0;36mmyfunc\u001b[1;34m(*args)\u001b[0m\n\u001b[0;32m      5\u001b[0m     word\u001b[38;5;241m.\u001b[39mappend(args[i]\u001b[38;5;241m.\u001b[39mlower())\n\u001b[0;32m      6\u001b[0m \u001b[38;5;28;01melse\u001b[39;00m:\n\u001b[1;32m----> 7\u001b[0m     \u001b[43mword\u001b[49m\u001b[38;5;241;43m.\u001b[39;49m\u001b[43mappend\u001b[49m(args[i]\u001b[38;5;241m.\u001b[39mupper())\n\u001b[0;32m      8\u001b[0m \u001b[38;5;28;01mreturn\u001b[39;00m \u001b[38;5;124m'\u001b[39m\u001b[38;5;124m'\u001b[39m\u001b[38;5;241m.\u001b[39mjoin(word)\n",
      "\u001b[1;31mAttributeError\u001b[0m: 'str' object has no attribute 'append'"
     ]
    }
   ],
   "source": [
    "myfunc(\"solipsism\")"
   ]
  },
  {
   "cell_type": "code",
   "execution_count": 11,
   "id": "36487ba3",
   "metadata": {},
   "outputs": [],
   "source": [
    "def myfunc(x):\n",
    "    out = \"\"\n",
    "    for i in range(len(x)):\n",
    "        if i%2==0:\n",
    "           out.append(x[i].lower())\n",
    "        else: \n",
    "           out.append(x[i].upper())\n",
    "    return ''.join(out)"
   ]
  },
  {
   "cell_type": "code",
   "execution_count": 12,
   "id": "f4d672c3",
   "metadata": {},
   "outputs": [
    {
     "ename": "AttributeError",
     "evalue": "'str' object has no attribute 'append'",
     "output_type": "error",
     "traceback": [
      "\u001b[1;31m---------------------------------------------------------------------------\u001b[0m",
      "\u001b[1;31mAttributeError\u001b[0m                            Traceback (most recent call last)",
      "Cell \u001b[1;32mIn[12], line 1\u001b[0m\n\u001b[1;32m----> 1\u001b[0m \u001b[43mmyfunc\u001b[49m\u001b[43m(\u001b[49m\u001b[38;5;124;43m\"\u001b[39;49m\u001b[38;5;124;43msolipsism\u001b[39;49m\u001b[38;5;124;43m\"\u001b[39;49m\u001b[43m)\u001b[49m\n",
      "Cell \u001b[1;32mIn[11], line 5\u001b[0m, in \u001b[0;36mmyfunc\u001b[1;34m(x)\u001b[0m\n\u001b[0;32m      3\u001b[0m \u001b[38;5;28;01mfor\u001b[39;00m i \u001b[38;5;129;01min\u001b[39;00m \u001b[38;5;28mrange\u001b[39m(\u001b[38;5;28mlen\u001b[39m(x)):\n\u001b[0;32m      4\u001b[0m     \u001b[38;5;28;01mif\u001b[39;00m i\u001b[38;5;241m%\u001b[39m\u001b[38;5;241m2\u001b[39m\u001b[38;5;241m==\u001b[39m\u001b[38;5;241m0\u001b[39m:\n\u001b[1;32m----> 5\u001b[0m        \u001b[43mout\u001b[49m\u001b[38;5;241;43m.\u001b[39;49m\u001b[43mappend\u001b[49m(x[i]\u001b[38;5;241m.\u001b[39mlower())\n\u001b[0;32m      6\u001b[0m     \u001b[38;5;28;01melse\u001b[39;00m: \n\u001b[0;32m      7\u001b[0m        out\u001b[38;5;241m.\u001b[39mappend(x[i]\u001b[38;5;241m.\u001b[39mupper())\n",
      "\u001b[1;31mAttributeError\u001b[0m: 'str' object has no attribute 'append'"
     ]
    }
   ],
   "source": [
    "myfunc(\"solipsism\")"
   ]
  },
  {
   "cell_type": "code",
   "execution_count": null,
   "id": "c05f61ce",
   "metadata": {},
   "outputs": [],
   "source": []
  }
 ],
 "metadata": {
  "kernelspec": {
   "display_name": "Python 3 (ipykernel)",
   "language": "python",
   "name": "python3"
  },
  "language_info": {
   "codemirror_mode": {
    "name": "ipython",
    "version": 3
   },
   "file_extension": ".py",
   "mimetype": "text/x-python",
   "name": "python",
   "nbconvert_exporter": "python",
   "pygments_lexer": "ipython3",
   "version": "3.10.9"
  }
 },
 "nbformat": 4,
 "nbformat_minor": 5
}
