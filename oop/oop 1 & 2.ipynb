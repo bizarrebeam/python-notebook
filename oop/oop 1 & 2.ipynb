{
 "cells": [
  {
   "cell_type": "code",
   "execution_count": 15,
   "id": "9ac8ad53",
   "metadata": {},
   "outputs": [],
   "source": [
    "class Cat():\n",
    "    def __init__(self, pur):\n",
    "        self.my_attribute = pur"
   ]
  },
  {
   "cell_type": "code",
   "execution_count": 16,
   "id": "d822fc9c",
   "metadata": {},
   "outputs": [],
   "source": [
    "meow = Cat(pur = \"brbrbrbr\")"
   ]
  },
  {
   "cell_type": "code",
   "execution_count": 17,
   "id": "4c5250fb",
   "metadata": {},
   "outputs": [
    {
     "data": {
      "text/plain": [
       "__main__.Cat"
      ]
     },
     "execution_count": 17,
     "metadata": {},
     "output_type": "execute_result"
    }
   ],
   "source": [
    "type(meow)"
   ]
  },
  {
   "cell_type": "code",
   "execution_count": 19,
   "id": "b1c0573a",
   "metadata": {},
   "outputs": [
    {
     "data": {
      "text/plain": [
       "'brbrbrbr'"
      ]
     },
     "execution_count": 19,
     "metadata": {},
     "output_type": "execute_result"
    }
   ],
   "source": [
    "meow.my_attribute"
   ]
  },
  {
   "cell_type": "code",
   "execution_count": 20,
   "id": "32f8a33c",
   "metadata": {},
   "outputs": [],
   "source": [
    "class Cat():\n",
    "    def __init__(self, pur):\n",
    "        self.pur = pur"
   ]
  },
  {
   "cell_type": "code",
   "execution_count": 21,
   "id": "9a3f8b4f",
   "metadata": {},
   "outputs": [],
   "source": [
    "miaw = Cat(pur = \"purrrr\")"
   ]
  },
  {
   "cell_type": "code",
   "execution_count": 22,
   "id": "c80230e2",
   "metadata": {},
   "outputs": [
    {
     "data": {
      "text/plain": [
       "'purrrr'"
      ]
     },
     "execution_count": 22,
     "metadata": {},
     "output_type": "execute_result"
    }
   ],
   "source": [
    "miaw.pur"
   ]
  },
  {
   "cell_type": "code",
   "execution_count": 23,
   "id": "006235ee",
   "metadata": {},
   "outputs": [],
   "source": [
    "class Cat():\n",
    "    def __init__(self, pur):\n",
    "        self.i = pur"
   ]
  },
  {
   "cell_type": "code",
   "execution_count": 24,
   "id": "33325729",
   "metadata": {},
   "outputs": [],
   "source": [
    "miaw = Cat(pur = \"purrr\")"
   ]
  },
  {
   "cell_type": "code",
   "execution_count": 26,
   "id": "808aa36e",
   "metadata": {},
   "outputs": [
    {
     "data": {
      "text/plain": [
       "'purrr'"
      ]
     },
     "execution_count": 26,
     "metadata": {},
     "output_type": "execute_result"
    }
   ],
   "source": [
    "miaw.i"
   ]
  },
  {
   "cell_type": "code",
   "execution_count": 27,
   "id": "43d50d63",
   "metadata": {},
   "outputs": [],
   "source": [
    "class Ngekos():\n",
    "    \n",
    "    kos = \"kuliah\"\n",
    "    \n",
    "    def __init__(self, baju, buku, perabotan):\n",
    "        self.baju = baju\n",
    "        self.buku = buku\n",
    "        self.perabotan = perabotan"
   ]
  },
  {
   "cell_type": "code",
   "execution_count": 30,
   "id": "72ec56d8",
   "metadata": {},
   "outputs": [],
   "source": [
    "aku = Ngekos(baju = True,  buku = False, perabotan = [\"Sapu\", \"Pel\", \"Ember\"])"
   ]
  },
  {
   "cell_type": "code",
   "execution_count": 31,
   "id": "a3802076",
   "metadata": {},
   "outputs": [
    {
     "data": {
      "text/plain": [
       "'Ember'"
      ]
     },
     "execution_count": 31,
     "metadata": {},
     "output_type": "execute_result"
    }
   ],
   "source": [
    "aku.perabotan[2]"
   ]
  },
  {
   "cell_type": "code",
   "execution_count": 32,
   "id": "a6235dcd",
   "metadata": {},
   "outputs": [],
   "source": [
    "class Ngekos():\n",
    "    \n",
    "    kos = \"kuliah\" # object class atribute\n",
    "    \n",
    "    def __init__(self, baju, buku, perabotan): # self atribute\n",
    "        self.baju = baju\n",
    "        self.buku = buku\n",
    "        self.perabotan = perabotan"
   ]
  },
  {
   "cell_type": "code",
   "execution_count": 33,
   "id": "55e113d6",
   "metadata": {},
   "outputs": [],
   "source": [
    "aku = Ngekos(baju = True,  buku = False, perabotan = [\"Sapu\", \"Pel\", \"Ember\"])"
   ]
  },
  {
   "cell_type": "code",
   "execution_count": 34,
   "id": "1412f9a3",
   "metadata": {},
   "outputs": [
    {
     "data": {
      "text/plain": [
       "'kuliah'"
      ]
     },
     "execution_count": 34,
     "metadata": {},
     "output_type": "execute_result"
    }
   ],
   "source": [
    "aku.kos"
   ]
  },
  {
   "cell_type": "code",
   "execution_count": 35,
   "id": "99b6c044",
   "metadata": {},
   "outputs": [
    {
     "data": {
      "text/plain": [
       "False"
      ]
     },
     "execution_count": 35,
     "metadata": {},
     "output_type": "execute_result"
    }
   ],
   "source": [
    "aku.buku"
   ]
  },
  {
   "cell_type": "code",
   "execution_count": 36,
   "id": "4c8ba10c",
   "metadata": {},
   "outputs": [],
   "source": [
    "class Ngekos():\n",
    "    \n",
    "    kos = \"kuliah\" # object class atribute\n",
    "    \n",
    "    def __init__(self, baju, buku, perabotan): # self atribute\n",
    "        self.baju = baju\n",
    "        self.buku = buku\n",
    "        self.perabotan = perabotan\n",
    "    \n",
    "    def miris(anak_kos):\n",
    "        print(\"kasian banget deh\")"
   ]
  },
  {
   "cell_type": "code",
   "execution_count": 37,
   "id": "269dc520",
   "metadata": {},
   "outputs": [],
   "source": [
    "aku = Ngekos(baju = True,  buku = False, perabotan = [\"Sapu\", \"Pel\", \"Ember\"])"
   ]
  },
  {
   "cell_type": "code",
   "execution_count": 39,
   "id": "587a6c28",
   "metadata": {},
   "outputs": [
    {
     "data": {
      "text/plain": [
       "<bound method Ngekos.miris of <__main__.Ngekos object at 0x00000266F2127190>>"
      ]
     },
     "execution_count": 39,
     "metadata": {},
     "output_type": "execute_result"
    }
   ],
   "source": [
    "aku.miris"
   ]
  },
  {
   "cell_type": "code",
   "execution_count": 40,
   "id": "5a7d3603",
   "metadata": {},
   "outputs": [
    {
     "name": "stdout",
     "output_type": "stream",
     "text": [
      "kasian banget deh\n"
     ]
    }
   ],
   "source": [
    "aku.miris()"
   ]
  },
  {
   "cell_type": "code",
   "execution_count": 60,
   "id": "e7b4d22d",
   "metadata": {},
   "outputs": [],
   "source": [
    "class Ngekos():\n",
    "    \n",
    "    kos = \"kuliah\" # object class atribute\n",
    "    \n",
    "    def __init__(self, baju, buku, perabotan): # self atribute\n",
    "        self.baju = baju\n",
    "        self.buku = buku\n",
    "        self.perabotan = perabotan\n",
    "    \n",
    "    def miris(self, number):\n",
    "        print(\"kasian banget deh belum punya {} {}\".format(number, self.perabotan))"
   ]
  },
  {
   "cell_type": "code",
   "execution_count": 61,
   "id": "268916ce",
   "metadata": {},
   "outputs": [],
   "source": [
    "aku = Ngekos(baju = True,  buku = False, perabotan = \"ember\")"
   ]
  },
  {
   "cell_type": "code",
   "execution_count": 63,
   "id": "29ed76f4",
   "metadata": {},
   "outputs": [
    {
     "name": "stdout",
     "output_type": "stream",
     "text": [
      "kasian banget deh belum punya 5 ember\n"
     ]
    }
   ],
   "source": [
    "aku.miris(5)"
   ]
  },
  {
   "cell_type": "code",
   "execution_count": 64,
   "id": "be7e0473",
   "metadata": {},
   "outputs": [],
   "source": [
    "class Circle():\n",
    "    pi = 3.14\n",
    "    \n",
    "    def __init__(self, radius = 1):\n",
    "        self.radius = radius\n",
    "        \n",
    "    def get_area(self):\n",
    "        return self.pi * (self.radius)**2"
   ]
  },
  {
   "cell_type": "code",
   "execution_count": 67,
   "id": "4f55bb9e",
   "metadata": {},
   "outputs": [],
   "source": [
    "my_circle = Circle()"
   ]
  },
  {
   "cell_type": "code",
   "execution_count": 68,
   "id": "3777e5aa",
   "metadata": {},
   "outputs": [
    {
     "data": {
      "text/plain": [
       "3.14"
      ]
     },
     "execution_count": 68,
     "metadata": {},
     "output_type": "execute_result"
    }
   ],
   "source": [
    "my_circle.get_area()"
   ]
  },
  {
   "cell_type": "code",
   "execution_count": 69,
   "id": "9cb18082",
   "metadata": {},
   "outputs": [
    {
     "ename": "TypeError",
     "evalue": "Circle.get_area() takes 1 positional argument but 2 were given",
     "output_type": "error",
     "traceback": [
      "\u001b[1;31m---------------------------------------------------------------------------\u001b[0m",
      "\u001b[1;31mTypeError\u001b[0m                                 Traceback (most recent call last)",
      "Cell \u001b[1;32mIn[69], line 1\u001b[0m\n\u001b[1;32m----> 1\u001b[0m \u001b[43mmy_circle\u001b[49m\u001b[38;5;241;43m.\u001b[39;49m\u001b[43mget_area\u001b[49m\u001b[43m(\u001b[49m\u001b[38;5;241;43m23\u001b[39;49m\u001b[43m)\u001b[49m\n",
      "\u001b[1;31mTypeError\u001b[0m: Circle.get_area() takes 1 positional argument but 2 were given"
     ]
    }
   ],
   "source": [
    "my_circle.get_area(23)"
   ]
  },
  {
   "cell_type": "code",
   "execution_count": 70,
   "id": "397f3d2f",
   "metadata": {},
   "outputs": [],
   "source": [
    "my_circle = Circle(30)"
   ]
  },
  {
   "cell_type": "code",
   "execution_count": 71,
   "id": "d2df9eaf",
   "metadata": {},
   "outputs": [
    {
     "data": {
      "text/plain": [
       "2826.0"
      ]
     },
     "execution_count": 71,
     "metadata": {},
     "output_type": "execute_result"
    }
   ],
   "source": [
    "my_circle.get_area()"
   ]
  },
  {
   "cell_type": "code",
   "execution_count": 72,
   "id": "b0b660da",
   "metadata": {},
   "outputs": [
    {
     "data": {
      "text/plain": [
       "30"
      ]
     },
     "execution_count": 72,
     "metadata": {},
     "output_type": "execute_result"
    }
   ],
   "source": [
    "my_circle.radius"
   ]
  },
  {
   "cell_type": "code",
   "execution_count": null,
   "id": "1f5811d8",
   "metadata": {},
   "outputs": [],
   "source": [
    "class Circle():\n",
    "    pi = 3.14\n",
    "    \n",
    "    def __init__(self, radius = 1):\n",
    "        self.radius = radius\n",
    "        \n",
    "    def get_area(self):\n",
    "        return self.pi * (self.radius)**2\n",
    "    \n",
    "my_circle = Circle(30) # remember to always pass the argument here\n",
    "\n",
    "# result\n",
    "my_circle.get_area() # 2826.0\n",
    "ny_circle.radius # 30"
   ]
  },
  {
   "cell_type": "code",
   "execution_count": 73,
   "id": "4dda8e0f",
   "metadata": {},
   "outputs": [],
   "source": [
    "class Circle():\n",
    "    pi = 3.14\n",
    "    \n",
    "    def __init__(self, radius):\n",
    "        self.radius = radius\n",
    "        \n",
    "    def get_area(self):\n",
    "        return self.pi * (self.radius)**2"
   ]
  },
  {
   "cell_type": "code",
   "execution_count": 75,
   "id": "54990148",
   "metadata": {},
   "outputs": [],
   "source": [
    "myCircles = Circle(32)"
   ]
  },
  {
   "cell_type": "code",
   "execution_count": null,
   "id": "46249f35",
   "metadata": {},
   "outputs": [],
   "source": []
  }
 ],
 "metadata": {
  "kernelspec": {
   "display_name": "Python 3 (ipykernel)",
   "language": "python",
   "name": "python3"
  },
  "language_info": {
   "codemirror_mode": {
    "name": "ipython",
    "version": 3
   },
   "file_extension": ".py",
   "mimetype": "text/x-python",
   "name": "python",
   "nbconvert_exporter": "python",
   "pygments_lexer": "ipython3",
   "version": "3.10.9"
  }
 },
 "nbformat": 4,
 "nbformat_minor": 5
}
