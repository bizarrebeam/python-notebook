{
 "cells": [
  {
   "cell_type": "code",
   "execution_count": 5,
   "id": "c607c974",
   "metadata": {},
   "outputs": [],
   "source": [
    "class Animal():\n",
    "    \n",
    "    def __init__(self):\n",
    "        print(\"I am from animalia kingdom!\")\n",
    "        \n",
    "    def guess_two(self):\n",
    "        print(\"I am woof woof\")\n",
    "    \n",
    "    def guess_three(self):\n",
    "        print(\"I am moo moo\")"
   ]
  },
  {
   "cell_type": "code",
   "execution_count": 6,
   "id": "fb5bcc27",
   "metadata": {},
   "outputs": [
    {
     "name": "stdout",
     "output_type": "stream",
     "text": [
      "I am from animalia kingdom!\n"
     ]
    }
   ],
   "source": [
    "myanimal = Animal()"
   ]
  },
  {
   "cell_type": "code",
   "execution_count": 7,
   "id": "b9afe90c",
   "metadata": {},
   "outputs": [],
   "source": [
    "class Dog(Animal): # deriving from previous class\n",
    "    def __init__(self):\n",
    "        Animal.__init__(self)\n",
    "        print(\"I am a dog!\")\n",
    "    "
   ]
  },
  {
   "cell_type": "code",
   "execution_count": 8,
   "id": "667322b7",
   "metadata": {},
   "outputs": [
    {
     "name": "stdout",
     "output_type": "stream",
     "text": [
      "I am from animalia kingdom!\n",
      "I am a dog!\n"
     ]
    }
   ],
   "source": [
    "mydog = Dog()"
   ]
  },
  {
   "cell_type": "code",
   "execution_count": 10,
   "id": "91cb264e",
   "metadata": {},
   "outputs": [
    {
     "name": "stdout",
     "output_type": "stream",
     "text": [
      "I am woof woof\n"
     ]
    }
   ],
   "source": [
    "mydog.guess_two()"
   ]
  },
  {
   "cell_type": "code",
   "execution_count": 11,
   "id": "9990eb84",
   "metadata": {},
   "outputs": [],
   "source": [
    "# overwrite the base\n",
    "# overwrite that in the new class\n",
    "\n",
    "class Dog(Animal): # deriving from previous class\n",
    "    def __init__(self):\n",
    "        Animal.__init__(self)\n",
    "        print(\"I am a dog!\")\n",
    "    def guess_three(self):\n",
    "        print(\"I am always barking\")\n"
   ]
  },
  {
   "cell_type": "code",
   "execution_count": 13,
   "id": "b6fae20f",
   "metadata": {},
   "outputs": [
    {
     "name": "stdout",
     "output_type": "stream",
     "text": [
      "I am from animalia kingdom!\n",
      "I am a dog!\n"
     ]
    }
   ],
   "source": [
    "mydog = Dog()"
   ]
  },
  {
   "cell_type": "code",
   "execution_count": 14,
   "id": "4844d4ab",
   "metadata": {},
   "outputs": [
    {
     "name": "stdout",
     "output_type": "stream",
     "text": [
      "I am always barking\n"
     ]
    }
   ],
   "source": [
    "mydog.guess_three()"
   ]
  },
  {
   "cell_type": "code",
   "execution_count": 15,
   "id": "95b8305b",
   "metadata": {},
   "outputs": [],
   "source": [
    "# overwrite the base\n",
    "# overwrite that in the new class\n",
    "\n",
    "class Dog(Animal): # deriving from previous class\n",
    "    def __init__(self):\n",
    "        Animal.__init__(self)\n",
    "        print(\"I am a dog!\")\n",
    "        \n",
    "    def guess_three(self):\n",
    "        print(\"I am always barking\")\n",
    "\n",
    "    def guess_four(self):\n",
    "        print(\"Actually, you no longer have to guess\")"
   ]
  },
  {
   "cell_type": "code",
   "execution_count": 16,
   "id": "9b8858d6",
   "metadata": {},
   "outputs": [
    {
     "name": "stdout",
     "output_type": "stream",
     "text": [
      "I am from animalia kingdom!\n",
      "I am a dog!\n"
     ]
    }
   ],
   "source": [
    "mydog = Dog()"
   ]
  },
  {
   "cell_type": "code",
   "execution_count": 18,
   "id": "4396ecf7",
   "metadata": {},
   "outputs": [
    {
     "name": "stdout",
     "output_type": "stream",
     "text": [
      "Actually, you no longer have to guess\n"
     ]
    }
   ],
   "source": [
    "mydog.guess_four()"
   ]
  },
  {
   "cell_type": "code",
   "execution_count": 19,
   "id": "38f61244",
   "metadata": {},
   "outputs": [
    {
     "name": "stdout",
     "output_type": "stream",
     "text": [
      "I am woof woof\n"
     ]
    }
   ],
   "source": [
    "mydog.guess_two()"
   ]
  },
  {
   "cell_type": "code",
   "execution_count": null,
   "id": "3444562e",
   "metadata": {},
   "outputs": [],
   "source": []
  },
  {
   "cell_type": "code",
   "execution_count": 20,
   "id": "cbfd6465",
   "metadata": {},
   "outputs": [],
   "source": [
    "# polymorphism"
   ]
  },
  {
   "cell_type": "code",
   "execution_count": 27,
   "id": "91147f6d",
   "metadata": {},
   "outputs": [],
   "source": [
    "class Cat():\n",
    "    \n",
    "    def __init__(self, name):\n",
    "        self.name = name\n",
    "    \n",
    "    def speak(self):\n",
    "        return self.name + \" meow-meow all the time\""
   ]
  },
  {
   "cell_type": "code",
   "execution_count": 28,
   "id": "a302d82c",
   "metadata": {},
   "outputs": [],
   "source": [
    "class Dog():\n",
    "    \n",
    "    def __init__(self, name):\n",
    "        self.name = name\n",
    "    \n",
    "    def speak(self):\n",
    "        return self.name + \" woof-woof all the time!\""
   ]
  },
  {
   "cell_type": "code",
   "execution_count": 29,
   "id": "3e2b65dd",
   "metadata": {},
   "outputs": [],
   "source": [
    "mitih = Cat(\"mitih\")\n",
    "heri = Dog(\"heri\")"
   ]
  },
  {
   "cell_type": "code",
   "execution_count": 30,
   "id": "dff3cd2a",
   "metadata": {},
   "outputs": [
    {
     "name": "stdout",
     "output_type": "stream",
     "text": [
      "mitih meow-meow all the time\n"
     ]
    }
   ],
   "source": [
    "print(mitih.speak())"
   ]
  },
  {
   "cell_type": "code",
   "execution_count": 31,
   "id": "231fd889",
   "metadata": {},
   "outputs": [
    {
     "name": "stdout",
     "output_type": "stream",
     "text": [
      "heri woof-woof all the time!\n"
     ]
    }
   ],
   "source": [
    "print(heri.speak())"
   ]
  },
  {
   "cell_type": "code",
   "execution_count": 32,
   "id": "108a5eb8",
   "metadata": {},
   "outputs": [
    {
     "name": "stdout",
     "output_type": "stream",
     "text": [
      "<class '__main__.Cat'>\n",
      "<class 'str'>\n",
      "<class '__main__.Dog'>\n",
      "<class 'str'>\n"
     ]
    }
   ],
   "source": [
    "for pet in [mitih, heri]:\n",
    "    print(type(pet))\n",
    "    print(type(pet.speak()))"
   ]
  },
  {
   "cell_type": "code",
   "execution_count": 33,
   "id": "60b792f5",
   "metadata": {},
   "outputs": [
    {
     "name": "stdout",
     "output_type": "stream",
     "text": [
      "<class '__main__.Cat'>\n",
      "mitih meow-meow all the time\n",
      "<class '__main__.Dog'>\n",
      "heri woof-woof all the time!\n"
     ]
    }
   ],
   "source": [
    "for pet in [mitih, heri]:\n",
    "    print(type(pet))\n",
    "    print((pet.speak()))"
   ]
  },
  {
   "cell_type": "code",
   "execution_count": 34,
   "id": "5b6b745d",
   "metadata": {},
   "outputs": [],
   "source": [
    "def pet_speak(pet):\n",
    "    print(pet.speak())"
   ]
  },
  {
   "cell_type": "code",
   "execution_count": 35,
   "id": "ad2d7bd3",
   "metadata": {},
   "outputs": [
    {
     "name": "stdout",
     "output_type": "stream",
     "text": [
      "mitih meow-meow all the time\n"
     ]
    }
   ],
   "source": [
    "pet_speak(mitih)"
   ]
  },
  {
   "cell_type": "code",
   "execution_count": 38,
   "id": "00d3b531",
   "metadata": {},
   "outputs": [],
   "source": [
    "class Animal():\n",
    "    \n",
    "     def __init__(self, name):\n",
    "        self.name = name\n",
    "    \n",
    "     def speak(self):\n",
    "        raise NotImplementedError(\"Yeah you useless\")"
   ]
  },
  {
   "cell_type": "code",
   "execution_count": 40,
   "id": "bcc78ed5",
   "metadata": {},
   "outputs": [],
   "source": [
    "myanimal = Animal(\"Mitih\")"
   ]
  },
  {
   "cell_type": "code",
   "execution_count": 41,
   "id": "06321921",
   "metadata": {},
   "outputs": [
    {
     "ename": "NotImplementedError",
     "evalue": "Yeah you useless",
     "output_type": "error",
     "traceback": [
      "\u001b[1;31m---------------------------------------------------------------------------\u001b[0m",
      "\u001b[1;31mNotImplementedError\u001b[0m                       Traceback (most recent call last)",
      "Cell \u001b[1;32mIn[41], line 1\u001b[0m\n\u001b[1;32m----> 1\u001b[0m \u001b[43mmyanimal\u001b[49m\u001b[38;5;241;43m.\u001b[39;49m\u001b[43mspeak\u001b[49m\u001b[43m(\u001b[49m\u001b[43m)\u001b[49m\n",
      "Cell \u001b[1;32mIn[38], line 7\u001b[0m, in \u001b[0;36mAnimal.speak\u001b[1;34m(self)\u001b[0m\n\u001b[0;32m      6\u001b[0m \u001b[38;5;28;01mdef\u001b[39;00m \u001b[38;5;21mspeak\u001b[39m(\u001b[38;5;28mself\u001b[39m):\n\u001b[1;32m----> 7\u001b[0m    \u001b[38;5;28;01mraise\u001b[39;00m \u001b[38;5;167;01mNotImplementedError\u001b[39;00m(\u001b[38;5;124m\"\u001b[39m\u001b[38;5;124mYeah you useless\u001b[39m\u001b[38;5;124m\"\u001b[39m)\n",
      "\u001b[1;31mNotImplementedError\u001b[0m: Yeah you useless"
     ]
    }
   ],
   "source": [
    "myanimal.speak()"
   ]
  },
  {
   "cell_type": "code",
   "execution_count": null,
   "id": "28ed77b9",
   "metadata": {},
   "outputs": [],
   "source": []
  }
 ],
 "metadata": {
  "kernelspec": {
   "display_name": "Python 3 (ipykernel)",
   "language": "python",
   "name": "python3"
  },
  "language_info": {
   "codemirror_mode": {
    "name": "ipython",
    "version": 3
   },
   "file_extension": ".py",
   "mimetype": "text/x-python",
   "name": "python",
   "nbconvert_exporter": "python",
   "pygments_lexer": "ipython3",
   "version": "3.10.9"
  }
 },
 "nbformat": 4,
 "nbformat_minor": 5
}
