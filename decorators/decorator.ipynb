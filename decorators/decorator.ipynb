{
 "cells": [
  {
   "cell_type": "code",
   "execution_count": null,
   "id": "62eea646",
   "metadata": {},
   "outputs": [],
   "source": [
    "def func():\n",
    "    return 1"
   ]
  },
  {
   "cell_type": "code",
   "execution_count": null,
   "id": "4bb1cd00",
   "metadata": {},
   "outputs": [],
   "source": [
    "func()"
   ]
  },
  {
   "cell_type": "code",
   "execution_count": null,
   "id": "f7bfd09f",
   "metadata": {},
   "outputs": [],
   "source": [
    "func"
   ]
  },
  {
   "cell_type": "code",
   "execution_count": null,
   "id": "c0f11157",
   "metadata": {},
   "outputs": [],
   "source": [
    "def hello():\n",
    "    return \"Hello\""
   ]
  },
  {
   "cell_type": "code",
   "execution_count": null,
   "id": "aab910f1",
   "metadata": {},
   "outputs": [],
   "source": [
    "hello()"
   ]
  },
  {
   "cell_type": "code",
   "execution_count": null,
   "id": "12a27797",
   "metadata": {},
   "outputs": [],
   "source": [
    "hello"
   ]
  },
  {
   "cell_type": "code",
   "execution_count": null,
   "id": "5a3e1716",
   "metadata": {},
   "outputs": [],
   "source": [
    "greet = hello"
   ]
  },
  {
   "cell_type": "code",
   "execution_count": null,
   "id": "7ed0cc53",
   "metadata": {},
   "outputs": [],
   "source": [
    "greet()"
   ]
  },
  {
   "cell_type": "code",
   "execution_count": null,
   "id": "c5543a28",
   "metadata": {},
   "outputs": [],
   "source": [
    "hello()"
   ]
  },
  {
   "cell_type": "code",
   "execution_count": null,
   "id": "e1f34154",
   "metadata": {},
   "outputs": [],
   "source": [
    "del hello"
   ]
  },
  {
   "cell_type": "code",
   "execution_count": null,
   "id": "d1ecb1c4",
   "metadata": {},
   "outputs": [],
   "source": [
    "hello()"
   ]
  },
  {
   "cell_type": "code",
   "execution_count": null,
   "id": "711ebd30",
   "metadata": {},
   "outputs": [],
   "source": [
    "greet()"
   ]
  },
  {
   "cell_type": "code",
   "execution_count": null,
   "id": "cff18c7e",
   "metadata": {},
   "outputs": [],
   "source": [
    "def hello(name = \"adel\"):\n",
    "    print(\"The hello() has been executed\")\n",
    "    \n",
    "    def greet():\n",
    "        return \"\\t This is the greet() inside hello()\"\n",
    "    \n",
    "    def welcome():\n",
    "        return \"\\t This is welcome() inside hello()\"\n",
    "    \n",
    "    print(greet())\n",
    "    print(welcome())\n",
    "    print(\"This is the end of the hello() function\")"
   ]
  },
  {
   "cell_type": "code",
   "execution_count": null,
   "id": "42533816",
   "metadata": {},
   "outputs": [],
   "source": [
    "hello()"
   ]
  },
  {
   "cell_type": "code",
   "execution_count": null,
   "id": "825ef3e9",
   "metadata": {},
   "outputs": [],
   "source": [
    "welcome()"
   ]
  },
  {
   "cell_type": "code",
   "execution_count": null,
   "id": "4af9552a",
   "metadata": {},
   "outputs": [],
   "source": [
    "def hello(name = \"adel\"):\n",
    "    print(\"The hello() has been executed\")\n",
    "    \n",
    "    def greet():\n",
    "        return \"\\t This is the greet() inside hello()\"\n",
    "    \n",
    "    def welcome():\n",
    "        return \"\\t This is welcome() inside hello()\"\n",
    "    \n",
    "    print(\"I am going to return a function\")\n",
    "    \n",
    "    if name == \"adel\":\n",
    "        return greet\n",
    "    else:\n",
    "        return welcome"
   ]
  },
  {
   "cell_type": "code",
   "execution_count": null,
   "id": "84ac4973",
   "metadata": {},
   "outputs": [],
   "source": [
    "my_new_func = hello(\"jose\")"
   ]
  },
  {
   "cell_type": "code",
   "execution_count": null,
   "id": "6503f853",
   "metadata": {},
   "outputs": [],
   "source": [
    "print(my_new_func())"
   ]
  },
  {
   "cell_type": "code",
   "execution_count": null,
   "id": "5e8bc92f",
   "metadata": {},
   "outputs": [],
   "source": [
    "def cool():\n",
    "    def wi_th():\n",
    "        return \"you\"\n",
    "    \n",
    "    return wi_th"
   ]
  },
  {
   "cell_type": "code",
   "execution_count": null,
   "id": "f2bd73c1",
   "metadata": {},
   "outputs": [],
   "source": [
    "newjeans = cool()"
   ]
  },
  {
   "cell_type": "code",
   "execution_count": null,
   "id": "75c6af00",
   "metadata": {},
   "outputs": [],
   "source": [
    "newjeans()"
   ]
  },
  {
   "cell_type": "code",
   "execution_count": null,
   "id": "f37f2497",
   "metadata": {},
   "outputs": [],
   "source": [
    "cool()"
   ]
  },
  {
   "cell_type": "code",
   "execution_count": null,
   "id": "377b9539",
   "metadata": {},
   "outputs": [],
   "source": [
    "bro = cool()"
   ]
  },
  {
   "cell_type": "code",
   "execution_count": null,
   "id": "5e133246",
   "metadata": {},
   "outputs": [],
   "source": [
    "bro"
   ]
  },
  {
   "cell_type": "code",
   "execution_count": null,
   "id": "1ed80b41",
   "metadata": {},
   "outputs": [],
   "source": []
  },
  {
   "cell_type": "code",
   "execution_count": null,
   "id": "92528abb",
   "metadata": {},
   "outputs": [],
   "source": []
  },
  {
   "cell_type": "code",
   "execution_count": null,
   "id": "03174ca2",
   "metadata": {},
   "outputs": [],
   "source": []
  },
  {
   "cell_type": "code",
   "execution_count": null,
   "id": "bb8b68b2",
   "metadata": {},
   "outputs": [],
   "source": [
    "def hello():\n",
    "    return \"Hi Adel\""
   ]
  },
  {
   "cell_type": "code",
   "execution_count": null,
   "id": "75a7d7f4",
   "metadata": {},
   "outputs": [],
   "source": [
    "def other(some_def_func):\n",
    "    print(\"Other code runs here\")\n",
    "    print(some_def_func())"
   ]
  },
  {
   "cell_type": "code",
   "execution_count": null,
   "id": "b5876e02",
   "metadata": {},
   "outputs": [],
   "source": [
    "hello()"
   ]
  },
  {
   "cell_type": "code",
   "execution_count": null,
   "id": "4e19a957",
   "metadata": {},
   "outputs": [],
   "source": [
    "other(hello)"
   ]
  },
  {
   "cell_type": "code",
   "execution_count": null,
   "id": "efb37b48",
   "metadata": {},
   "outputs": [],
   "source": [
    "def new_decorator(original_func):\n",
    "    \n",
    "    def wrap_func():\n",
    "        \n",
    "        print(\"Some extra code, before the og func\")\n",
    "        \n",
    "        original_func()\n",
    "        \n",
    "        print(\"Some extra code, after the og\")\n",
    "        \n",
    "    return wrap_func"
   ]
  },
  {
   "cell_type": "code",
   "execution_count": null,
   "id": "20daad18",
   "metadata": {},
   "outputs": [],
   "source": [
    "def func_needs_decorator():\n",
    "    print(\"I want to be decorated!\")"
   ]
  },
  {
   "cell_type": "code",
   "execution_count": null,
   "id": "3a6412a9",
   "metadata": {},
   "outputs": [],
   "source": [
    "func_needs_decorator()"
   ]
  },
  {
   "cell_type": "code",
   "execution_count": null,
   "id": "fa03fe45",
   "metadata": {},
   "outputs": [],
   "source": [
    "decorated_func = new_decorator(func_needs_decorator)"
   ]
  },
  {
   "cell_type": "code",
   "execution_count": null,
   "id": "461591fc",
   "metadata": {},
   "outputs": [],
   "source": [
    "decorated_func()"
   ]
  },
  {
   "cell_type": "code",
   "execution_count": null,
   "id": "c90af3c0",
   "metadata": {},
   "outputs": [],
   "source": [
    "@new_decorator\n",
    "def func_needs_decorator():\n",
    "    print(\"I want to be decorated!\")"
   ]
  },
  {
   "cell_type": "code",
   "execution_count": null,
   "id": "37ddb1ce",
   "metadata": {},
   "outputs": [],
   "source": [
    "func_needs_decorator()"
   ]
  },
  {
   "cell_type": "code",
   "execution_count": null,
   "id": "f4ab0889",
   "metadata": {},
   "outputs": [],
   "source": []
  },
  {
   "cell_type": "code",
   "execution_count": 16,
   "id": "29dab98d",
   "metadata": {},
   "outputs": [],
   "source": [
    "def baseline_func(baseline_var):\n",
    "    def wrapping_the_func():\n",
    "        print(\"I printed this as initial.\")\n",
    "        \n",
    "        baseline_var()\n",
    "        \n",
    "        print(\"I printed this after i decorate this w sumthin new.\")\n",
    "        \n",
    "    return wrapping_the_func\n",
    "    "
   ]
  },
  {
   "cell_type": "code",
   "execution_count": 24,
   "id": "a1709419",
   "metadata": {},
   "outputs": [],
   "source": [
    "# @baseline_func\n",
    "def additional_decorator():\n",
    "    print(\"I adding this to decorate\")"
   ]
  },
  {
   "cell_type": "code",
   "execution_count": 25,
   "id": "fd2efb83",
   "metadata": {},
   "outputs": [
    {
     "name": "stdout",
     "output_type": "stream",
     "text": [
      "I adding this to decorate\n"
     ]
    }
   ],
   "source": [
    "additional_decorator()"
   ]
  }
 ],
 "metadata": {
  "kernelspec": {
   "display_name": "Python 3 (ipykernel)",
   "language": "python",
   "name": "python3"
  },
  "language_info": {
   "codemirror_mode": {
    "name": "ipython",
    "version": 3
   },
   "file_extension": ".py",
   "mimetype": "text/x-python",
   "name": "python",
   "nbconvert_exporter": "python",
   "pygments_lexer": "ipython3",
   "version": "3.10.9"
  }
 },
 "nbformat": 4,
 "nbformat_minor": 5
}
